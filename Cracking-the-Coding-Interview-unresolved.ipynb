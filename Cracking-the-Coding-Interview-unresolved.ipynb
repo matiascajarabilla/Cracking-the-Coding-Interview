{
 "cells": [
  {
   "cell_type": "markdown",
   "metadata": {
    "colab_type": "text",
    "id": "YqntFWBWodmt"
   },
   "source": [
    "# Cracking the Coding Interview\n",
    "\n",
    ">*Aviso legal: Este cuaderno recoge los ejercicios de la sexta edición del libro \"Cracking the code interview\" de Gayle Laakmann McDowell a solo efectos de investigación personal. Todos los derechos pertenecen al autor.*\n",
    "\n",
    "> *Disclaimer: This notebook collects all exercises from the sixth edition of the book \"Cracking the code interview\" by Gayle Laakmann McDowell for the sole purpose of personal investigation. All rights belong to the author.*\n"
   ]
  },
  {
   "cell_type": "markdown",
   "metadata": {
    "colab_type": "text",
    "id": "dYkQYlCepMuV"
   },
   "source": [
    "## 1. Arrays and strings"
   ]
  },
  {
   "cell_type": "markdown",
   "metadata": {
    "colab_type": "text",
    "id": "dbBjHdDXoRub"
   },
   "source": [
    "**1.1 Is Unique**\n",
    "\n",
    "Implement an algorithm to determine if a string has all unique characters. What if you cannot use additional data structures?\n",
    "\n",
    "*Hints: #44, #117, #132*\n",
    "\n",
    "\n",
    "\n",
    "\n",
    "\n",
    "\n",
    "\n",
    "\n"
   ]
  },
  {
   "cell_type": "code",
   "execution_count": 0,
   "metadata": {
    "colab": {},
    "colab_type": "code",
    "id": "kz9qj708oayw"
   },
   "outputs": [],
   "source": []
  },
  {
   "cell_type": "markdown",
   "metadata": {
    "colab_type": "text",
    "id": "xyiJcXK_0RMv"
   },
   "source": [
    "**1.2 Check Permutation**\n",
    "\n",
    "Given two strings, write a method to decide if one is a permutation of the other.\n",
    "\n",
    "*Hints: #1, #84, #122, #131*"
   ]
  },
  {
   "cell_type": "code",
   "execution_count": 0,
   "metadata": {
    "colab": {},
    "colab_type": "code",
    "id": "0KSyllhg0fOC"
   },
   "outputs": [],
   "source": []
  },
  {
   "cell_type": "markdown",
   "metadata": {
    "colab_type": "text",
    "id": "2nDHUatEICsz"
   },
   "source": [
    "**1.3 URLify**\n",
    "\n",
    "Write a method to replace all spaces in a string with '%20'. You may assume that the string has sufficient space at the end to hold the additional characters, and that you are given the \"true\" length of the string. (Note: If implementing in Java, please use a character array so that you can perform this operation in place.)\n",
    "\n",
    "EXAMPLE\n",
    "\n",
    "`Input: ‏‏‎ ‎\"Mr John Smith ‎‎‎‎‏‏‎ ‎‏‏‎ ‎‏‏‎ ‎\", 13`\n",
    "\n",
    "`Output: \"Mr%20John%20Smith\"`\n",
    "\n",
    "*Hints: #53,#118*"
   ]
  },
  {
   "cell_type": "code",
   "execution_count": 0,
   "metadata": {
    "colab": {},
    "colab_type": "code",
    "id": "03D-l9yDIcVl"
   },
   "outputs": [],
   "source": []
  },
  {
   "cell_type": "markdown",
   "metadata": {
    "colab_type": "text",
    "id": "3ckgYV8PIduh"
   },
   "source": [
    "**1.4 Palindrome Permutation**\n",
    "\n",
    "Given a string, write a function to check if it is a permutation of a palindrome. A palindrome is a word or phrase that is the same forwards and backwards. A permutation is a rearrangement of letters. The palindrome does not need to be limited to just dictionary words.\n",
    "\n",
    "EXAMPLE\n",
    "\n",
    "`Input: ‏‏‎ ‎Tact Coa`\n",
    "\n",
    "`Output: True (permutations: \"taco cat\", \"atco cta\", etc.)`\n",
    "\n",
    "*Hints: #106, #121, #134, #136*"
   ]
  },
  {
   "cell_type": "code",
   "execution_count": 0,
   "metadata": {
    "colab": {},
    "colab_type": "code",
    "id": "Mo5ly4wnJLdV"
   },
   "outputs": [],
   "source": []
  },
  {
   "cell_type": "markdown",
   "metadata": {
    "colab_type": "text",
    "id": "bHJPBIEzJL2Y"
   },
   "source": [
    "**1.5 One Away**\n",
    "\n",
    "There are three types of edits that can be performed on strings: insert a character, remove a character, or replace a character. Given two strings, write a function to check if they are one edit (or zero edits) away.\n",
    "\n",
    "EXAMPLE\n",
    "\n",
    "`pale, pie -> true`\n",
    "\n",
    "`pales, pale -> true`\n",
    "\n",
    "`pale, bale -> true`\n",
    "\n",
    "`pale, bake -> false`\n",
    "\n",
    "\n",
    "*Hints: #23, #97, #130*\n"
   ]
  },
  {
   "cell_type": "code",
   "execution_count": 0,
   "metadata": {
    "colab": {},
    "colab_type": "code",
    "id": "oSoqMf-UJcQg"
   },
   "outputs": [],
   "source": []
  },
  {
   "cell_type": "markdown",
   "metadata": {
    "colab_type": "text",
    "id": "Mqh4CZTQJcms"
   },
   "source": [
    "**1.6 String Compression**\n",
    "\n",
    "Implement a method to perform basic string compression using the counts of repeated characters. For example, the string `aabcccccaaa` would become `a2blc5a3`. If the \"compressed\" string would not become smaller than the original string, your method should return the original string. You can assume the string has only uppercase and lowercase letters (a - z).\n",
    "\n",
    "*Hints: #92, if 110*"
   ]
  },
  {
   "cell_type": "code",
   "execution_count": 0,
   "metadata": {
    "colab": {},
    "colab_type": "code",
    "id": "smAb1GgPJ48M"
   },
   "outputs": [],
   "source": []
  },
  {
   "cell_type": "markdown",
   "metadata": {
    "colab_type": "text",
    "id": "Lve873z3J5f2"
   },
   "source": [
    "**1.7 Rotate Matrix**\n",
    "\n",
    "Given an image represented by an NxN matrix, where each pixel in the image is 4 bytes, write a method to rotate the image by 90 degrees. Can you do this in place?\n",
    "\n",
    "*Hints: #51, #100*\n"
   ]
  },
  {
   "cell_type": "code",
   "execution_count": 0,
   "metadata": {
    "colab": {},
    "colab_type": "code",
    "id": "Vn3XuyrZKDL7"
   },
   "outputs": [],
   "source": []
  },
  {
   "cell_type": "markdown",
   "metadata": {
    "colab_type": "text",
    "id": "Wnf3Z34ZKDhU"
   },
   "source": [
    "**1.8 Zero Matrix**\n",
    "\n",
    "Write an algorithm such that if an element in an MxN matrix is 0, its entire row and column are set to 0.\n",
    "\n",
    "*Hints: #17, #74, #102*"
   ]
  },
  {
   "cell_type": "code",
   "execution_count": 0,
   "metadata": {
    "colab": {},
    "colab_type": "code",
    "id": "PlYstKkZKP5C"
   },
   "outputs": [],
   "source": []
  },
  {
   "cell_type": "markdown",
   "metadata": {
    "colab_type": "text",
    "id": "uFJmhT5oKQgs"
   },
   "source": [
    "**1.9 String Rotation**\n",
    "\n",
    "Assume you have a method `isSubstring` which checks if one word is a substring of another. Given two strings, `s1` and `s2`, write code to check if `s2` is a rotation of `s1` using only one call to `isSubstring` (e.g., \"waterbottle\" is a rotation of 'erbottlewat\")\n",
    "\n",
    "*Hints: #34, #88, #114*"
   ]
  },
  {
   "cell_type": "markdown",
   "metadata": {
    "colab_type": "text",
    "id": "JyvE1aCZJhVP"
   },
   "source": [
    "## 2. Linked lists"
   ]
  },
  {
   "cell_type": "markdown",
   "metadata": {
    "colab_type": "text",
    "id": "tAUckdYJNCRz"
   },
   "source": [
    "**2.1 Remove Dups**\n",
    "\n",
    "Write code to remove duplicates from an unsorted linked list.\n",
    "\n",
    "FOLLOW UP\n",
    "\n",
    "How would you solve this problem if a temporary buffer is not allowed?\n",
    "\n",
    "*Hints: #9, #40*\n"
   ]
  },
  {
   "cell_type": "code",
   "execution_count": 0,
   "metadata": {
    "colab": {},
    "colab_type": "code",
    "id": "POU6gYVaJno_"
   },
   "outputs": [],
   "source": []
  },
  {
   "cell_type": "markdown",
   "metadata": {
    "colab_type": "text",
    "id": "gTIwCBYxNPox"
   },
   "source": [
    "**2.2 Return Kth to Last**\n",
    "\n",
    "Implement an algorithm to find the `k`th to last element of a singly linked list.\n",
    "\n",
    "*Hints: #8, #25, #41, #67, #126*"
   ]
  },
  {
   "cell_type": "code",
   "execution_count": 0,
   "metadata": {
    "colab": {},
    "colab_type": "code",
    "id": "BqHJoFiTNPIV"
   },
   "outputs": [],
   "source": []
  },
  {
   "cell_type": "markdown",
   "metadata": {
    "colab_type": "text",
    "id": "cAns1E4qNfRN"
   },
   "source": [
    "**2.3 Delete Middle Node**\n",
    "\n",
    "Implement an algorithm to delete a node in the middle (i.e., any node but the first and last node, not necessarily the exact middle) of a singly linked list, given only access to that node.\n",
    "\n",
    "EXAMPLE\n",
    "\n",
    "`Input: ‏‏‎ ‎the node c from the linked list a -> b -> c -> d -> e -> f`\n",
    "\n",
    "`Result: nothing is returned, but the new linked list looks like a -> b -> d -> e -> f`\n",
    "\n",
    "*Hints: #72*\n",
    "\n"
   ]
  },
  {
   "cell_type": "code",
   "execution_count": 0,
   "metadata": {
    "colab": {},
    "colab_type": "code",
    "id": "Ws7EBsavNfsy"
   },
   "outputs": [],
   "source": []
  },
  {
   "cell_type": "markdown",
   "metadata": {
    "colab_type": "text",
    "id": "85RJ2ImDNt48"
   },
   "source": [
    "**2.4 Partition**\n",
    "\n",
    "Write code to partition a linked list around a value `x`, such that all nodes less than `x` come before all nodes greater than or equal to `x`. If `x` is contained within the list, the values of `x` only need to be after the elements less than x (see below). The partition element `x` can appear anywhere in the \"right partition\"; it does not need to appear between the left and right partitions.\n",
    "\n",
    "\n",
    "EXAMPLE\n",
    "\n",
    "`Input: ‏‏‎ ‎3 -> 5 -> 8 -> 5 -> 10 -> 2 -> 1 [partition=5]`\n",
    "\n",
    "`Output: 3 -> 1 -> 2 -> 10 -> 5 -> 5 -> 8`\n",
    "\n",
    "*Hints: #3, #24*"
   ]
  },
  {
   "cell_type": "code",
   "execution_count": 0,
   "metadata": {
    "colab": {},
    "colab_type": "code",
    "id": "jEnkAHa1OLSN"
   },
   "outputs": [],
   "source": []
  },
  {
   "cell_type": "markdown",
   "metadata": {
    "colab_type": "text",
    "id": "-f6C1-TFOwkW"
   },
   "source": [
    "**2.5 Sum Lists**\n",
    "\n",
    "You have two numbers represented by a linked list, where each node contains a single digit. The digits are stored in *reverse* order, such that the 1's digit is at the head of the list. Write a function that adds the two numbers and returns the sum as a linked list.\n",
    "\n",
    "EXAMPLE\n",
    "\n",
    "`Input: ‏‏‎ ‎(7-> 1 -> 6) + (5 -> 9 -> 2). That is, 617 + 295`\n",
    "\n",
    "`Output: 2 -> 1 -> 9. That is, 912`\n",
    "\n",
    "FOLLOW UP\n",
    "\n",
    "Suppose the digits are stored in forward order. Repeat the above problem.\n",
    "\n",
    "EXAMPLE\n",
    "\n",
    "`Input: ‏‏‎ ‎(6 -> 1 -> 7) + (2 -> 9 -> 5).That is, 617 + 295`\n",
    "\n",
    "`Output: 9 -> 1 -> 2, That is, 912`\n",
    "\n",
    "*Hints: #7, #30, #71 #95, #109*"
   ]
  },
  {
   "cell_type": "code",
   "execution_count": 0,
   "metadata": {
    "colab": {},
    "colab_type": "code",
    "id": "lonttJfHWGAm"
   },
   "outputs": [],
   "source": []
  },
  {
   "cell_type": "markdown",
   "metadata": {
    "colab_type": "text",
    "id": "op0hZkkXWJb-"
   },
   "source": [
    "**2.6 Palindrome**\n",
    "\n",
    "Implement a function to check if a linked list is a palindrome.\n",
    "\n",
    "*Hints: #5, #13, #29, #61, #101*"
   ]
  },
  {
   "cell_type": "code",
   "execution_count": 0,
   "metadata": {
    "colab": {},
    "colab_type": "code",
    "id": "vhqGHovoXh-5"
   },
   "outputs": [],
   "source": []
  },
  {
   "cell_type": "markdown",
   "metadata": {
    "colab_type": "text",
    "id": "QY9dOEaFXinw"
   },
   "source": [
    "**2.7 Intersection**\n",
    "\n",
    "Given two (singly) linked lists, determine if the two lists intersect. Return the intersecting node. Note that the intersection is defined based on reference, not value. That is, if the `k`th node of the first linked list is the exact same node (by reference) as the `j`th node of the second linked list, then they are intersecting.\n",
    "\n",
    "*Hints: #20, #45, #55, #65, #76, #93, #111, #120, #129*"
   ]
  },
  {
   "cell_type": "code",
   "execution_count": 0,
   "metadata": {
    "colab": {},
    "colab_type": "code",
    "id": "_Aekv3oJXi8g"
   },
   "outputs": [],
   "source": []
  },
  {
   "cell_type": "markdown",
   "metadata": {
    "colab_type": "text",
    "id": "Dvw-Bl70Xwld"
   },
   "source": [
    "**2.8 Loop Detection**\n",
    "\n",
    "Given a circular linked list, implement an algorithm that returns the node at the beginning of the loop.\n",
    "\n",
    "DEFINITION\n",
    "\n",
    "Circular linked list: A (corrupt) linked list in which a node's next pointer points to an earlier node, so as to make a loop in the linked list.\n",
    "\n",
    "EXAMPLE\n",
    "\n",
    "`Input: ‏‏‎ ‎A -> B -> C -> D -> E -> C [the same C as earlier]`\n",
    "\n",
    "`Output: C`\n",
    "\n",
    "*Hints: #50, #69, #83, #90*"
   ]
  },
  {
   "cell_type": "code",
   "execution_count": 0,
   "metadata": {
    "colab": {},
    "colab_type": "code",
    "id": "575BKlnpYGd7"
   },
   "outputs": [],
   "source": []
  },
  {
   "cell_type": "markdown",
   "metadata": {
    "colab_type": "text",
    "id": "V0n2jzdpYHFL"
   },
   "source": [
    "## 3. Stacks and queues"
   ]
  },
  {
   "cell_type": "markdown",
   "metadata": {
    "colab_type": "text",
    "id": "8dY8dN5ZYY_f"
   },
   "source": [
    "**3.1 Three in One**\n",
    "\n",
    "Describe how you could use a single array to implement three stacks. \n",
    "\n",
    "*Hints: #2, #12, #38, #58*"
   ]
  },
  {
   "cell_type": "code",
   "execution_count": 0,
   "metadata": {
    "colab": {},
    "colab_type": "code",
    "id": "-V35goqGYRvJ"
   },
   "outputs": [],
   "source": []
  },
  {
   "cell_type": "markdown",
   "metadata": {
    "colab_type": "text",
    "id": "nzCrU18qYc2V"
   },
   "source": [
    "**3.2 Stack Min**\n",
    "\n",
    "How would you design a stack which, in addition to `push` and `pop`, has a function `min` which returns the minimum element? `Push`, `pop` and `min` should all operate in O(1) time.\n",
    "\n",
    "*Hints: #27, #59, #78*"
   ]
  },
  {
   "cell_type": "code",
   "execution_count": 0,
   "metadata": {
    "colab": {},
    "colab_type": "code",
    "id": "Ca1N6IlXYmCQ"
   },
   "outputs": [],
   "source": []
  },
  {
   "cell_type": "markdown",
   "metadata": {
    "colab_type": "text",
    "id": "f3yyuaOEYt73"
   },
   "source": [
    "**3.3 Stack of Plates**\n",
    "\n",
    "Imagine a (literal) stack of plates. If the stack gets too high, it might topple. Therefore, in real life, we would likely start a new stack when the previous stack exceeds some threshold. Implement a data structure `SetOfStacks` that mimics this. `SetOfStacks` should be composed of several stacks and should create a new stack once the previous one exceeds capacity. `SetOfStacks.push()` and `SetOfStacks.pop()` should behave identically to a single stack (that is, `pop()` should return the same values as it would if there were just a single stack).\n",
    "\n",
    "FOLLOW UP\n",
    "\n",
    "Implement a function `popAt(int index)` which performs a pop operation on a specific sub-stack.\n",
    "\n",
    "*Hints: #64, #81*"
   ]
  },
  {
   "cell_type": "code",
   "execution_count": 0,
   "metadata": {
    "colab": {},
    "colab_type": "code",
    "id": "gaXrJLrGZN9E"
   },
   "outputs": [],
   "source": []
  },
  {
   "cell_type": "markdown",
   "metadata": {
    "colab_type": "text",
    "id": "sTATeYHPZSoK"
   },
   "source": [
    "**3.4 Queue via Stacks**\n",
    "\n",
    "Implement a `MyQueue` class which implements a queue using two stacks.\n",
    "\n",
    "*Hints: #98, #114*"
   ]
  },
  {
   "cell_type": "code",
   "execution_count": 0,
   "metadata": {
    "colab": {},
    "colab_type": "code",
    "id": "JX5rzIdaZWYA"
   },
   "outputs": [],
   "source": []
  },
  {
   "cell_type": "markdown",
   "metadata": {
    "colab_type": "text",
    "id": "5w6AVeq8ZXJ5"
   },
   "source": [
    "**3.5 Sort Stack**\n",
    "\n",
    "Write a program to sort a stack such that the smallest items are on the top. You can use an additional temporary stack, but you may not copy the elements into any other data structure (such as an array). The stack supports the following operations: `push`, `pop`, `peek`, and `isEmpty`.\n",
    "\n",
    "*Hints: #15, #32, #43*"
   ]
  },
  {
   "cell_type": "code",
   "execution_count": 0,
   "metadata": {
    "colab": {},
    "colab_type": "code",
    "id": "cJawlOFEZ56p"
   },
   "outputs": [],
   "source": []
  },
  {
   "cell_type": "markdown",
   "metadata": {
    "colab_type": "text",
    "id": "KuA1Aa-BZ-CJ"
   },
   "source": [
    "**3.6 Animal Shelter**\n",
    "\n",
    "An animal shelter, which holds only dogs and cats, operates on a strictly \"first in, first out\" basis. People must adopt either the \"oldest\" (based on arrival time) of all animals at the shelter, or they can select whether they would prefer a dog or a cat (and will receive the oldest animal of that type). They cannot select which specific animal they would like. Create the data structures to maintain this system and implement operations such as `enqueue`, `dequeueAny`, `dequeueDog`, and `dequeueCat`.You may use the built-in `LinkedList` data structure.\n",
    "\n",
    "*Hints: #22, #56, #63*"
   ]
  },
  {
   "cell_type": "code",
   "execution_count": 0,
   "metadata": {
    "colab": {},
    "colab_type": "code",
    "id": "JWQ6fU6xaRz_"
   },
   "outputs": [],
   "source": []
  },
  {
   "cell_type": "markdown",
   "metadata": {
    "colab_type": "text",
    "id": "YU9SkifBaSzX"
   },
   "source": [
    "## 4. Trees and Graphs"
   ]
  },
  {
   "cell_type": "markdown",
   "metadata": {
    "colab_type": "text",
    "id": "6I9ysEJgaYv3"
   },
   "source": [
    "**4.1 Route Between Nodes**\n",
    "\n",
    "Given a directed graph, design an algorithm to find out whether there is a route between two nodes.\n",
    "\n",
    "*Hints: #127*"
   ]
  },
  {
   "cell_type": "code",
   "execution_count": 0,
   "metadata": {
    "colab": {},
    "colab_type": "code",
    "id": "927ICD-qaqB1"
   },
   "outputs": [],
   "source": []
  },
  {
   "cell_type": "markdown",
   "metadata": {
    "colab_type": "text",
    "id": "wF8LiafbaqdZ"
   },
   "source": [
    "**4.2 Minimal Tree**\n",
    "\n",
    "Given a sorted (increasing order) array with unique integer elements, write an algorithm to create a binary search tree with minimal height.\n",
    "\n",
    "*Hints: #19, #73, #116*"
   ]
  },
  {
   "cell_type": "code",
   "execution_count": 0,
   "metadata": {
    "colab": {},
    "colab_type": "code",
    "id": "SLD6uazra2Bu"
   },
   "outputs": [],
   "source": []
  },
  {
   "cell_type": "markdown",
   "metadata": {
    "colab_type": "text",
    "id": "vgVaOL8Ha2ho"
   },
   "source": [
    "**4.3 List of Depths**\n",
    "\n",
    "Given a binary tree, design an algorithm which creates a linked list of all the nodes at each depth (e.g., if you have a tree with depth D, you'll have D linked lists).\n",
    "\n",
    "*Hints: #107, #123, #135*"
   ]
  },
  {
   "cell_type": "code",
   "execution_count": 0,
   "metadata": {
    "colab": {},
    "colab_type": "code",
    "id": "Z3C2OjjQbAqj"
   },
   "outputs": [],
   "source": []
  },
  {
   "cell_type": "markdown",
   "metadata": {
    "colab_type": "text",
    "id": "IArphiVrbBbO"
   },
   "source": [
    "**4.4 Check Balanced**\n",
    "\n",
    "Implement a function to check if a binary tree is balanced. For the purposes of this question, a balanced tree is defined to be a tree such that the heights of the two subtrees of any node never differ by more than one.\n",
    "\n",
    "*Hints: #21, #33, #49, #105, #124*\n",
    "\n",
    "‏‏‎ ‎"
   ]
  },
  {
   "cell_type": "code",
   "execution_count": 0,
   "metadata": {
    "colab": {},
    "colab_type": "code",
    "id": "23MwX91_bG8s"
   },
   "outputs": [],
   "source": []
  },
  {
   "cell_type": "markdown",
   "metadata": {
    "colab_type": "text",
    "id": "r28ynfCCbHZ1"
   },
   "source": [
    "**4.5 Validate BST**\n",
    "\n",
    "Implement a function to check if a binary tree is a binary search tree.\n",
    "\n",
    "*Hints: #35, #57, #86, #113, #128*"
   ]
  },
  {
   "cell_type": "code",
   "execution_count": 0,
   "metadata": {
    "colab": {},
    "colab_type": "code",
    "id": "nv9ToN-abPTJ"
   },
   "outputs": [],
   "source": []
  },
  {
   "cell_type": "markdown",
   "metadata": {
    "colab_type": "text",
    "id": "RmsGu7lJbPzw"
   },
   "source": [
    "**4.6 Successor**\n",
    "\n",
    "Write an algorithm to find the \"next\" node (i.e., in-order successor) of a given node in a binary search tree. You may assume that each node has a link to its parent.\n",
    "\n",
    "*Hints: #79, #91*"
   ]
  },
  {
   "cell_type": "code",
   "execution_count": 0,
   "metadata": {
    "colab": {},
    "colab_type": "code",
    "id": "JSF-m7BFbUVi"
   },
   "outputs": [],
   "source": []
  },
  {
   "cell_type": "markdown",
   "metadata": {
    "colab_type": "text",
    "id": "kcGOMhxKbVod"
   },
   "source": [
    "**4.7 Build Order**\n",
    "\n",
    "You are given a list of projects and a list of dependencies (which is a list of pairs of projects, where the second project is dependent on the first project). All of a project's dependencies must be built before the project is. Find a build order that will allow the projects to be built. If there is no valid build order, return an error.\n",
    "\n",
    "EXAMPLE\n",
    "\n",
    "`Input:`\n",
    "\n",
    "`‏‏‎ ‎‏‏‎ ‎projects: a, bj c, d, e, f`\n",
    "\n",
    "`‏‏‎ ‎‏‏‎ ‎dependencies: (a, d), (f, b), (b, d), (f, a), (d, c)`\n",
    "\n",
    "`Output: f, e, a, b, d, c`\n",
    "\n",
    "*Hints: #26, #47, #60, #85, #125, #133*"
   ]
  },
  {
   "cell_type": "code",
   "execution_count": 0,
   "metadata": {
    "colab": {},
    "colab_type": "code",
    "id": "4-amvzsbbtkR"
   },
   "outputs": [],
   "source": []
  },
  {
   "cell_type": "markdown",
   "metadata": {
    "colab_type": "text",
    "id": "WIUi-UzVbuBy"
   },
   "source": [
    "**4.8 First Common Ancestor**\n",
    "\n",
    "Design an algorithm and write code to find the first common ancestor of two nodes in a binary tree. Avoid storing additional nodes in a data structure. NOTE: This is not necessarily a binary search tree.\n",
    "\n",
    "*Hints: #10, # 16, #28, #36, #46, #70, #80, #96*"
   ]
  },
  {
   "cell_type": "code",
   "execution_count": 0,
   "metadata": {
    "colab": {},
    "colab_type": "code",
    "id": "pc04TM3vb0Gy"
   },
   "outputs": [],
   "source": []
  },
  {
   "cell_type": "markdown",
   "metadata": {
    "colab_type": "text",
    "id": "91FVzaDRb0cu"
   },
   "source": [
    "**4.9 BST Sequences**\n",
    "\n",
    "A binary search tree was created by traversing through an array from left to right and inserting each element. Given a binary search tree with distinct elements, print all possible arrays that could have led to this tree.\n",
    "\n",
    "EXAMPLE\n",
    "\n",
    "`Input:`\n",
    "\n",
    "![4_9.png](./4_9.png)\n",
    "\n",
    "`Output: {2, 1, 3}, {2, 3, 1}`\n",
    "\n",
    "*Hints: #39, #48, #66, #82*"
   ]
  },
  {
   "cell_type": "code",
   "execution_count": 0,
   "metadata": {
    "colab": {},
    "colab_type": "code",
    "id": "71bRa42fcWM4"
   },
   "outputs": [],
   "source": []
  },
  {
   "cell_type": "markdown",
   "metadata": {
    "colab_type": "text",
    "id": "bULg3tmVcWjM"
   },
   "source": [
    "**4.10 Check Subtree**\n",
    "\n",
    "T1 and T2 are two very large binary trees, with T1 much bigger than T2. Create an algorithm to determine if T2 is a subtree of T1.\n",
    "A tree T2 is a subtree of T1 if there exists a node n in T1 such that the subtree of n is identical to T2. That is, if you cut off the tree at node n, the two trees would be identical.\n",
    "\n",
    "*Hints: #4, #11, #18, #31, #37*"
   ]
  },
  {
   "cell_type": "code",
   "execution_count": 0,
   "metadata": {
    "colab": {},
    "colab_type": "code",
    "id": "H6XHllV6cvFe"
   },
   "outputs": [],
   "source": []
  },
  {
   "cell_type": "markdown",
   "metadata": {
    "colab_type": "text",
    "id": "5nmc_pqkc1Sq"
   },
   "source": [
    "**4.11 Random Node**\n",
    "\n",
    "You are implementing a binary tree class from scratch which, in addition to `insert`, `find`, and `delete`, has a method `getRandomNode()` which returns a random node from the tree. All nodes should be equally likely to be chosen. Design and implement an algorithm for `getRandomNode``, and explain how you would implement the rest of the methods.\n",
    "\n",
    "Hints: #42, #54, #62, #75, #89, #99, #112, #119"
   ]
  },
  {
   "cell_type": "code",
   "execution_count": 0,
   "metadata": {
    "colab": {},
    "colab_type": "code",
    "id": "SMPPTvv7c9uU"
   },
   "outputs": [],
   "source": []
  },
  {
   "cell_type": "markdown",
   "metadata": {
    "colab_type": "text",
    "id": "E9GVorgTc-qO"
   },
   "source": [
    "**4.12 Paths with Sum**\n",
    "\n",
    "You are given a binary tree in which each node contains an integer value (which might be positive or negative). Design an algorithm to count the number of paths that sum to a given value. The path does not need to start or end at the root or a leaf, but it must go downwards (traveling only from parent nodes to child nodes).\n",
    "\n",
    "*Hints: #6, #14, #52, #68, #77, #87, #94, #103, #108, #115*"
   ]
  },
  {
   "cell_type": "code",
   "execution_count": 0,
   "metadata": {
    "colab": {},
    "colab_type": "code",
    "id": "UNvSxKykdGpS"
   },
   "outputs": [],
   "source": []
  },
  {
   "cell_type": "markdown",
   "metadata": {
    "colab_type": "text",
    "id": "GoMNegzCdICC"
   },
   "source": [
    "## 5. Bit manipulation"
   ]
  },
  {
   "cell_type": "markdown",
   "metadata": {
    "colab_type": "text",
    "id": "CN_3ZCBbdXax"
   },
   "source": [
    "**5.1 Insertion**\n",
    "\n",
    "You are given two 32-bit numbers, `N` and `M`, and two bit positions, `i` and `j`. Write a method to insert `M` into `N` such that `M` starts at bit `j` and ends at bit `i`. You can assume that the bits `j` through `i` have enough space to fit all of `M`. That is, if `M = 10011`, you can assume that there are at least 5 bits between `j` and `i`. You would not, for example, have `j = 3` and `i = 2`, because `M` could not fully fit between bit 3 and bit 2.\n",
    "\n",
    "EXAMPLE\n",
    "\n",
    "`Input: ‏‏‎ ‎N = 10000000000, M = 10011, i = 2, j = 6`\n",
    "\n",
    "`Output: N = 10001001100`\n",
    "\n",
    "*Hints: #137, #169, #215*\n"
   ]
  },
  {
   "cell_type": "code",
   "execution_count": 0,
   "metadata": {
    "colab": {},
    "colab_type": "code",
    "id": "sqKeUAkLdvlN"
   },
   "outputs": [],
   "source": []
  },
  {
   "cell_type": "markdown",
   "metadata": {
    "colab_type": "text",
    "id": "wRZAOxVedwTb"
   },
   "source": [
    "**5.2 Binary to String**\n",
    "\n",
    "Given a real number between 0 and 1 (e.g., 0.72) that is passed in as a double, print the binary representation. If the number cannot be represented accurately in binary with at most 32 characters, print \"ERROR.\"\n",
    "\n",
    "*Hlnts: #143, #167, #173, #269, #297*"
   ]
  },
  {
   "cell_type": "code",
   "execution_count": 0,
   "metadata": {
    "colab": {},
    "colab_type": "code",
    "id": "trc0G2gGd5eq"
   },
   "outputs": [],
   "source": []
  },
  {
   "cell_type": "markdown",
   "metadata": {
    "colab_type": "text",
    "id": "jwaX_Nl-d59i"
   },
   "source": [
    "**5.3 Flip Bit to Win**\n",
    "\n",
    "You have an integer and you can flip exactly one bit from a 0 to a 1, Write code to find the length of the longest sequence of 1s you could create.\n",
    "\n",
    "EXAMPLE\n",
    "\n",
    "`Input: ‏‏‎ ‎1775 (or : 11011101111)`\n",
    "\n",
    "`Output: 8`\n",
    "\n",
    "*Hints: #159, #226, #314, #352*"
   ]
  },
  {
   "cell_type": "code",
   "execution_count": 0,
   "metadata": {
    "colab": {},
    "colab_type": "code",
    "id": "sYwVYM_5eMRJ"
   },
   "outputs": [],
   "source": []
  },
  {
   "cell_type": "markdown",
   "metadata": {
    "colab_type": "text",
    "id": "p1bLZPUUeMlK"
   },
   "source": [
    "**5.4 Next Number**\n",
    "\n",
    "Given a positive integer, print the next smallest and the next largest number that have the same number of 1 bits in their binary representation.\n",
    "\n",
    "*Hints: #147, #175, #242, #312, #339, #358, #375, #390*"
   ]
  },
  {
   "cell_type": "code",
   "execution_count": 0,
   "metadata": {
    "colab": {},
    "colab_type": "code",
    "id": "54alJ2gEeT_K"
   },
   "outputs": [],
   "source": []
  },
  {
   "cell_type": "markdown",
   "metadata": {
    "colab_type": "text",
    "id": "xHqdHrP7eUeM"
   },
   "source": [
    "**5.5 Debugger**\n",
    "\n",
    "Explain what the following code does:\n",
    "\n",
    "`((n&(n-1)) == 0)`\n",
    "\n",
    "*Hints: #151, #202, #261, #302, #346, #372, #383, #398*"
   ]
  },
  {
   "cell_type": "code",
   "execution_count": null,
   "metadata": {
    "colab": {},
    "colab_type": "code",
    "id": "tN3NOAbbemzO"
   },
   "outputs": [],
   "source": []
  },
  {
   "cell_type": "markdown",
   "metadata": {
    "colab_type": "text",
    "id": "Xeh-sflaenw7"
   },
   "source": [
    "**5.6 Conversion**\n",
    "\n",
    "Write a function to determine the number of bits you would need to flip to convert integer A to integer B.\n",
    "\n",
    "EXAMPLE\n",
    "\n",
    "`Input: ‏‏‎ ‎29 (or: 11101), 15 (or: 01111)`\n",
    "\n",
    "`Output: 2`\n",
    "\n",
    "*Hints: #336, #369*"
   ]
  },
  {
   "cell_type": "code",
   "execution_count": 0,
   "metadata": {
    "colab": {},
    "colab_type": "code",
    "id": "uODV4c_3evnG"
   },
   "outputs": [],
   "source": []
  },
  {
   "cell_type": "markdown",
   "metadata": {
    "colab_type": "text",
    "id": "OCtQonvqev60"
   },
   "source": [
    "**5.7 Pairwise Swap**\n",
    "\n",
    "Write a program to swap odd and even bits in an integer with as few instructions as possible (e.g., bit 9 and bit 1 are swapped, bit 2 and bit 3 are swapped, and so on).\n",
    "\n",
    "*Hints: #145, #248, #328, #355*"
   ]
  },
  {
   "cell_type": "code",
   "execution_count": 0,
   "metadata": {
    "colab": {},
    "colab_type": "code",
    "id": "ylaviT9Je-mR"
   },
   "outputs": [],
   "source": []
  },
  {
   "cell_type": "markdown",
   "metadata": {
    "colab_type": "text",
    "id": "tvbkkk1ae_Fh"
   },
   "source": [
    "**5.8 Draw Line**\n",
    "\n",
    "A monochrome screen is stored as a single array of bytes, allowing eight consecutive pixels to be stored in one byte. The screen has width `w`, where `w` is divisible by 8 (that is, no byte will be split across rows). The height of the screen, of course, can be derived from the length of the array and the width. Implement a function that draws a horizontal line from `(xl , y)` to `(x2, y)`.\n",
    "\n",
    "The method signature should look something like:\n",
    "\n",
    "`drawline(byte[] screen, int width, int xl, int X2, int y)`\n",
    "\n",
    "*Hints: #366, #381, #384, #391*"
   ]
  },
  {
   "cell_type": "code",
   "execution_count": 0,
   "metadata": {
    "colab": {},
    "colab_type": "code",
    "id": "GP_vepMGfP_M"
   },
   "outputs": [],
   "source": []
  },
  {
   "cell_type": "markdown",
   "metadata": {
    "colab_type": "text",
    "id": "Pv-H9G2fiYwo"
   },
   "source": [
    "## 6. Math and Logic Puzzles"
   ]
  },
  {
   "cell_type": "markdown",
   "metadata": {
    "colab_type": "text",
    "id": "uzP37Yf4ihBx"
   },
   "source": [
    "**6.1 The Heavy Pill**\n",
    "\n",
    "You have 20 bottles of pills. 19 bottles have 1.0 gram pills, but one has pills of weight 1.1 grams. Given a scale that provides an exact measurement, how would you find the heavy bottle?\n",
    "\n",
    "You can only use the scale once.\n",
    "\n",
    "*Hints: #186, #252, #319, #387*"
   ]
  },
  {
   "cell_type": "code",
   "execution_count": 0,
   "metadata": {
    "colab": {},
    "colab_type": "code",
    "id": "TBnBF0XPif6L"
   },
   "outputs": [],
   "source": []
  },
  {
   "cell_type": "markdown",
   "metadata": {
    "colab_type": "text",
    "id": "2VqVe21vipYU"
   },
   "source": [
    "**6.2 Basketball**\n",
    "\n",
    "You have a basketball hoop and someone says that you can play one of two games.\n",
    "\n",
    "Game 1: You get one shot to make the hoop.\n",
    "\n",
    "Game 2: You get three shots and you have to make two of three shots.\n",
    "\n",
    "If `p` is the probability of making a particular shot, for which values of `p` should you pick one game or the other?\n",
    "\n",
    "Hints: #181, #239, #284, #323\n"
   ]
  },
  {
   "cell_type": "code",
   "execution_count": 0,
   "metadata": {
    "colab": {},
    "colab_type": "code",
    "id": "wQ5HdAFOi558"
   },
   "outputs": [],
   "source": []
  },
  {
   "cell_type": "markdown",
   "metadata": {
    "colab_type": "text",
    "id": "_UKNukIqi6Wa"
   },
   "source": [
    "**6.3 Dominos**\n",
    "\n",
    "There is an 8x8 chessboard in which two diagonally opposite corners have been cut off. You are given 31 dominos, and a single domino can cover exactly two squares. Can you use the 31 dominos to cover the entire board? Prove your answer (by providing an example or showing why it's impossible).\n",
    "\n",
    "*Hints: #367, #397*"
   ]
  },
  {
   "cell_type": "code",
   "execution_count": 0,
   "metadata": {
    "colab": {},
    "colab_type": "code",
    "id": "sLVhmVM-jXbg"
   },
   "outputs": [],
   "source": []
  },
  {
   "cell_type": "markdown",
   "metadata": {
    "colab_type": "text",
    "id": "8IFGQyupjX5T"
   },
   "source": [
    "**6.4 Ants on a Triangie**\n",
    "\n",
    "There are three ants on different vertices of a triangle. What is the probability of collision (between any two or all of them) if they start walking on the sides of the triangle? Assume that each ant randomly picks a direction, with either direction being equally likely to be chosen, and that they walk at the same speed.\n",
    "Similarly, find the probability of collision with `n` ants on an `n-vertex` polygon.\n",
    "\n",
    "*Hints: #157, #195, #296*"
   ]
  },
  {
   "cell_type": "code",
   "execution_count": 0,
   "metadata": {
    "colab": {},
    "colab_type": "code",
    "id": "a8gyNBWwjfjG"
   },
   "outputs": [],
   "source": []
  },
  {
   "cell_type": "markdown",
   "metadata": {
    "colab_type": "text",
    "id": "llUHWT81jgGm"
   },
   "source": [
    "**6.5 Jugs of Water**\n",
    "\n",
    "You have a five-quart jug, a three-quart jug, and an unlimited supply of water (but no measuring cups). How would you come up with exactly four quarts of water? Note that the jugs are oddly shaped, such that filling up exactly \"half\" of the jug would be impossible.\n",
    "\n",
    "*Hints: #149, #379, #400*"
   ]
  },
  {
   "cell_type": "code",
   "execution_count": 0,
   "metadata": {
    "colab": {},
    "colab_type": "code",
    "id": "uzQ30UhFjnDs"
   },
   "outputs": [],
   "source": []
  },
  {
   "cell_type": "markdown",
   "metadata": {
    "colab_type": "text",
    "id": "b9IclC3njpJZ"
   },
   "source": [
    "**6.6 Blue-Eyed Island**\n",
    "\n",
    "A bunch of people are living on an island, when a visitor comes with a strange order: all blue-eyed people must leave the island as soon as possible. There will be a flight out at 8:00 pm every evening. Each person can see everyone else's eye color, but they do not know their own (nor is anyone allowed to tell them).\n",
    "\n",
    "Additionally, they do not know how many people have blue eyes, although they do know that at least one person does. How many days will it take the blue-eyed people to leave?\n",
    "\n",
    "*Hints: #218, #282, #341, #370*"
   ]
  },
  {
   "cell_type": "code",
   "execution_count": 0,
   "metadata": {
    "colab": {},
    "colab_type": "code",
    "id": "ktIkv6aijvNs"
   },
   "outputs": [],
   "source": []
  },
  {
   "cell_type": "markdown",
   "metadata": {
    "colab_type": "text",
    "id": "8KY8B2kkjvyq"
   },
   "source": [
    "**6.7 The Apocalypse**\n",
    "\n",
    "In the new post-apocalyptic world, the world queen is desperately concerned about the birth rate. Therefore, she decrees that all families should ensure that they have one girl or else they face massive fines. If all families abide by this policy—that is, they have continue to have children until they have one girl, at which point they immediately stop—what will the gender ratio of the new generation be? (Assume that the odds of someone having a boy or a girl on any given pregnancy is equal.) Solve this out logically and then write a computer simulation of it.\n",
    "\n",
    "*Hints: #154, #160, #171, #188, #201*"
   ]
  },
  {
   "cell_type": "code",
   "execution_count": 0,
   "metadata": {
    "colab": {},
    "colab_type": "code",
    "id": "yI4i6KKkj1jw"
   },
   "outputs": [],
   "source": []
  },
  {
   "cell_type": "markdown",
   "metadata": {
    "colab_type": "text",
    "id": "k8F_22Qdj2TJ"
   },
   "source": [
    "**6.8 The Egg Drop Problem**\n",
    "\n",
    "There is a building of 100 floors. If an egg drops from the `N`th floor or above, it will break. If it's dropped from any floor below, it will not break. You're given two eggs. Find `N`, while minimizing the number of drops for the worst case.\n",
    "\n",
    "*Hints; #156, #233, #294, #333, #357, #374, #395*"
   ]
  },
  {
   "cell_type": "code",
   "execution_count": 0,
   "metadata": {
    "colab": {},
    "colab_type": "code",
    "id": "AJ4d6fvqj6nv"
   },
   "outputs": [],
   "source": []
  },
  {
   "cell_type": "markdown",
   "metadata": {
    "colab_type": "text",
    "id": "y93tPQXJj7CN"
   },
   "source": [
    "**6.9 100 Lockers**\n",
    "\n",
    "There are 100 closed lockers in a hallway. A man begins by opening all 100 lockers. Next, he closes every second locker. Then, on his third pass, he toggles every third locker (closes it if it is open or opens it if it is closed). This process continues for 100 passes, such that on each pass `i`, the man toggles every `i`th locker. After his 100th pass in the hallway, in which he toggles only locker #100, how many lockers are open?\n",
    "\n",
    "*Hints: #139, #172, #264, #306*"
   ]
  },
  {
   "cell_type": "code",
   "execution_count": 0,
   "metadata": {
    "colab": {},
    "colab_type": "code",
    "id": "sJ1vKROEkAya"
   },
   "outputs": [],
   "source": []
  },
  {
   "cell_type": "markdown",
   "metadata": {
    "colab_type": "text",
    "id": "RRmCB6WzkCXG"
   },
   "source": [
    "**6.10 Poison**\n",
    "\n",
    "You have 1000 bottles of soda, and exactly one is poisoned. You have 10 test strips which can be used to detect poison. A single drop of poison will turn the test strip positive permanently. You can put any number of drops on a test strip at once and you can reuse a test strip as many times as you'd like (as long as the results are negative). However, you can only run tests once per day and it takes seven days to return a result. How would you figure out the poisoned bottle in as few days as possible?\n",
    "\n",
    "FOLLOW UP\n",
    "\n",
    "Write code to simulate your approach.\n",
    "\n",
    "*Hints: #146, #163, #183, #191, #205, #221, #230, #241, #249*"
   ]
  },
  {
   "cell_type": "code",
   "execution_count": 0,
   "metadata": {
    "colab": {},
    "colab_type": "code",
    "id": "jsjQiguPkJQg"
   },
   "outputs": [],
   "source": []
  },
  {
   "cell_type": "markdown",
   "metadata": {
    "colab_type": "text",
    "id": "iDw0YmrdkKTu"
   },
   "source": [
    "## 7. Object-Oriented Design"
   ]
  },
  {
   "cell_type": "markdown",
   "metadata": {
    "colab_type": "text",
    "id": "sjWBcqaCkPMx"
   },
   "source": [
    "**7.1 Deck of Cards**\n",
    "\n",
    "Design the data structures for a generic deck of cards. Explain how you would subclass the data structures to implement blackjack.\n",
    "\n",
    "*Hints: #153, #275*"
   ]
  },
  {
   "cell_type": "code",
   "execution_count": 0,
   "metadata": {
    "colab": {},
    "colab_type": "code",
    "id": "yfRA8QjckOTs"
   },
   "outputs": [],
   "source": []
  },
  {
   "cell_type": "markdown",
   "metadata": {
    "colab_type": "text",
    "id": "dRwBkH5SkYYc"
   },
   "source": [
    "**7.2 Call Center**\n",
    "\n",
    "Imagine you have a call center with three levels of employees: respondent, manager, and director. An incoming telephone call must be first allocated to a respondent who is free. If the respondent can't handle the call, he or she must escalate the call to a manager. If the manager is not free or not able to handle it, then the call should be escalated to a director. Design the classes and data structures for this problem. Implement a method `dispatchCall()` which assigns a call to the first available employee.\n",
    "\n",
    "*Hints: #363*"
   ]
  },
  {
   "cell_type": "code",
   "execution_count": 0,
   "metadata": {
    "colab": {},
    "colab_type": "code",
    "id": "Luytv8T1kkyF"
   },
   "outputs": [],
   "source": []
  },
  {
   "cell_type": "markdown",
   "metadata": {
    "colab_type": "text",
    "id": "EdJTVpVCklYk"
   },
   "source": [
    "**7.3 Jukebox**\n",
    "\n",
    "Design a musical jukebox using object-oriented principles.\n",
    "\n",
    "*Hints: #198*"
   ]
  },
  {
   "cell_type": "code",
   "execution_count": 0,
   "metadata": {
    "colab": {},
    "colab_type": "code",
    "id": "xkFn8SSskvIH"
   },
   "outputs": [],
   "source": []
  },
  {
   "cell_type": "markdown",
   "metadata": {
    "colab_type": "text",
    "id": "uEhdlnEWkxtH"
   },
   "source": [
    "**7.4 Parking Lot**\n",
    "\n",
    "Design a parking lot using object-oriented principles. \n",
    "\n",
    "*Hints: #258*"
   ]
  },
  {
   "cell_type": "code",
   "execution_count": 0,
   "metadata": {
    "colab": {},
    "colab_type": "code",
    "id": "pL7Fh2nik1g3"
   },
   "outputs": [],
   "source": []
  },
  {
   "cell_type": "markdown",
   "metadata": {
    "colab_type": "text",
    "id": "wyACTZlek17N"
   },
   "source": [
    "**7.5 Online Book Reader**\n",
    "\n",
    "Design the data structures for an online book reader system.\n",
    "\n",
    "*Hints: #344*"
   ]
  },
  {
   "cell_type": "code",
   "execution_count": 0,
   "metadata": {
    "colab": {},
    "colab_type": "code",
    "id": "XwM7BSgFk8TO"
   },
   "outputs": [],
   "source": []
  },
  {
   "cell_type": "markdown",
   "metadata": {
    "colab_type": "text",
    "id": "RV-i875sk-fm"
   },
   "source": [
    "**7.6 Jigsaw**\n",
    "\n",
    "Implement an NxN jigsaw puzzle. Design the data structures and explain an algorithm to solve the puzzle. You can assume that you have a `fitsWith` method which, when passed two puzzle edges, returns true if the two edges belong together.\n",
    "\n",
    "*Hints: #192, #238, #283*"
   ]
  },
  {
   "cell_type": "code",
   "execution_count": 0,
   "metadata": {
    "colab": {},
    "colab_type": "code",
    "id": "2VoQZh2YlH8P"
   },
   "outputs": [],
   "source": []
  },
  {
   "cell_type": "markdown",
   "metadata": {
    "colab_type": "text",
    "id": "6Dcb5Yz0lJMM"
   },
   "source": [
    "**7.7 Chat Server**\n",
    "\n",
    "Explain how you would design a chat server. In particular, provide details about the various backend components, classes, and methods. What wouid be the hardest problems to solve?\n",
    "\n",
    "*Hints: #213, #245, #271*"
   ]
  },
  {
   "cell_type": "code",
   "execution_count": 0,
   "metadata": {
    "colab": {},
    "colab_type": "code",
    "id": "DLg_tEPmlOCj"
   },
   "outputs": [],
   "source": []
  },
  {
   "cell_type": "markdown",
   "metadata": {
    "colab_type": "text",
    "id": "EUdUM3jqlOh8"
   },
   "source": [
    "**7.8 Othello**\n",
    "\n",
    "Othello is played as follows: Each Othello piece is white on one side and black on the other. When a piece is surrounded by its opponents on both the left and right sides, or both the top and bottom, it is said to be captured and its color is flipped. On your turn, you must capture at least one of your opponent's pieces. The game ends when either user has no more valid moves. The win is assigned to the person with the most pieces. Implement the object-oriented design for Othello.\n",
    "\n",
    "*Hints: #179, #228*"
   ]
  },
  {
   "cell_type": "code",
   "execution_count": 0,
   "metadata": {
    "colab": {},
    "colab_type": "code",
    "id": "YSKo0k7alVzB"
   },
   "outputs": [],
   "source": []
  },
  {
   "cell_type": "markdown",
   "metadata": {
    "colab_type": "text",
    "id": "eUoDDtVblWNw"
   },
   "source": [
    "**7.9 Circular Array**\n",
    "\n",
    "Implement a `CircularArray` class that supports an array-like data structure which can be efficiently rotated. If possible, the class should use a generic type (also called a template), and should support iteration via the standard `for (Obj o : circularArray)` notation.\n",
    "\n",
    "*Hints: #389*"
   ]
  },
  {
   "cell_type": "code",
   "execution_count": 0,
   "metadata": {
    "colab": {},
    "colab_type": "code",
    "id": "P2bpHamlligL"
   },
   "outputs": [],
   "source": []
  },
  {
   "cell_type": "markdown",
   "metadata": {
    "colab_type": "text",
    "id": "2FSRjyF4lk4y"
   },
   "source": [
    "**7.10 Minesweeper**\n",
    "\n",
    "Design and implement a text-based Minesweeper game. Minesweeper is the classic single-player computer game where an NxN grid has B mines (or bombs) hidden across the grid.The remaining cells are either blank or have a number behind them.The numbers reflect the number of bombs in the surrounding eight cells. The user then uncovers a cell. If it is a bomb, the player loses. If it is a number, the number is exposed. If it is a blank cell, this cell and all adjacent blank cells (up to and including the surrounding numeric cells) are exposed. The player wins when all non-bomb cells are exposed. The player can also flag certain places as potential bombs. This doesn't affect game play, other than to block the user from accidentally clicking a cell that is thought to have a bomb (Tip for the reader: if you're not familiar with this game, please play a few rounds online first.)\n",
    "\n",
    "![7_10.png](./7_10.png)\n",
    "\n",
    "*Hints: #351, #361, #377, #386, #399*"
   ]
  },
  {
   "cell_type": "code",
   "execution_count": 0,
   "metadata": {
    "colab": {},
    "colab_type": "code",
    "id": "gdAzPnsQl1nd"
   },
   "outputs": [],
   "source": []
  },
  {
   "cell_type": "markdown",
   "metadata": {
    "colab_type": "text",
    "id": "jYCjiSUBl2wj"
   },
   "source": [
    "**7.11  File System**\n",
    "\n",
    "Explain the data structures and algorithms that you would use to design an in-memory file system. Illustrate with an example in code where possible.\n",
    "\n",
    "*Hints: #141, #216*"
   ]
  },
  {
   "cell_type": "code",
   "execution_count": 0,
   "metadata": {
    "colab": {},
    "colab_type": "code",
    "id": "Siclctlyl9PN"
   },
   "outputs": [],
   "source": []
  },
  {
   "cell_type": "markdown",
   "metadata": {
    "colab_type": "text",
    "id": "ttQvkmJDl93B"
   },
   "source": [
    "**7.12 Hash Table**\n",
    "\n",
    "Design and implementa hash table which uses chaining (linked lists) to handle collisions.\n",
    "\n",
    "Hints: #287, #307"
   ]
  },
  {
   "cell_type": "code",
   "execution_count": 0,
   "metadata": {
    "colab": {},
    "colab_type": "code",
    "id": "16aOp1VWpoOO"
   },
   "outputs": [],
   "source": []
  },
  {
   "cell_type": "markdown",
   "metadata": {
    "colab_type": "text",
    "id": "tot9QZkwpqmu"
   },
   "source": [
    "## 8. Recursion and Dynamic Programming"
   ]
  },
  {
   "cell_type": "markdown",
   "metadata": {
    "colab_type": "text",
    "id": "Lo0uHH8Epsoe"
   },
   "source": [
    "**8.1 Triple Step**\n",
    "\n",
    "A child is running up a staircase with `n` steps and can hop either 1 step, 2 steps, or 3 steps at a time, implement a method to count how many possible ways the child can run up the stairs.\n",
    "\n",
    "*Hints: #152, #178, #277, #237, #262, #359*"
   ]
  },
  {
   "cell_type": "code",
   "execution_count": 0,
   "metadata": {
    "colab": {},
    "colab_type": "code",
    "id": "V85rAkmapsKT"
   },
   "outputs": [],
   "source": []
  },
  {
   "cell_type": "markdown",
   "metadata": {
    "colab_type": "text",
    "id": "HW0ca9Wzp2FE"
   },
   "source": [
    "**8.2 Robot in a Grid**\n",
    "\n",
    "Imagine a robot sitting on the upper left corner of grid with `r` rows and `c` columns. The robot can only move in two directions, right and down, but certain cells are \"off limits\" such that the robot cannot step on them. Design an algorithm to find a path for the robot from the top left to the bottom right.\n",
    "\n",
    "*Hints: #331, #360, #388*"
   ]
  },
  {
   "cell_type": "code",
   "execution_count": 0,
   "metadata": {
    "colab": {},
    "colab_type": "code",
    "id": "PFJthvE3p7fk"
   },
   "outputs": [],
   "source": []
  },
  {
   "cell_type": "markdown",
   "metadata": {
    "colab_type": "text",
    "id": "xPFqE8Hrp9qc"
   },
   "source": [
    "**8.3 Magic Index**\n",
    "\n",
    "A magic index in an `array A[0...n-1]` is defined to be an index such that `A[i] = i`. Given a sorted array of distinct integers, write a method to find a magic index, if one exists, in array `A`.\n",
    "\n",
    "FOLLOW UP\n",
    "\n",
    "What if the values are not distinct? \n",
    "\n",
    "*Hints: #170, #204, #240, #286, #340*"
   ]
  },
  {
   "cell_type": "code",
   "execution_count": 0,
   "metadata": {
    "colab": {},
    "colab_type": "code",
    "id": "y4T-A01NqQIZ"
   },
   "outputs": [],
   "source": []
  },
  {
   "cell_type": "markdown",
   "metadata": {
    "colab_type": "text",
    "id": "TS9bjyIFqSz-"
   },
   "source": [
    "**8.4 Power Set**\n",
    "\n",
    "Write a method to return all subsets of a set. \n",
    "\n",
    "*Hints: #273, #290, #338, #354, #373*"
   ]
  },
  {
   "cell_type": "code",
   "execution_count": 0,
   "metadata": {
    "colab": {},
    "colab_type": "code",
    "id": "ecG3KrsVqX65"
   },
   "outputs": [],
   "source": []
  },
  {
   "cell_type": "markdown",
   "metadata": {
    "colab_type": "text",
    "id": "b-Ghjy-IqYWO"
   },
   "source": [
    "**8.5 Recursive Multiply**\n",
    "\n",
    "Write a recursive function to multiply two positive integers without using the `*` operator. You can use addition, subtraction, and bit shifting, but you should minimize the number of those operations.\n",
    "\n",
    "*Hints: #166, #203, #227, #234, #246, #280*"
   ]
  },
  {
   "cell_type": "code",
   "execution_count": 0,
   "metadata": {
    "colab": {},
    "colab_type": "code",
    "id": "CyjM_gRTqfZ8"
   },
   "outputs": [],
   "source": []
  },
  {
   "cell_type": "markdown",
   "metadata": {
    "colab_type": "text",
    "id": "C7ODyq2rqf5M"
   },
   "source": [
    "**8.6 Towers of Hanoi**\n",
    "\n",
    "In the classic problem of the Towers of Hanoi, you have 3 towers and N disks of different sizes which can slide onto any tower. The puzzle starts with disks sorted in ascending order of size from top to bottom (i.e., each disk sits on top of an even larger one). You have the following constraints:\n",
    "\n",
    "(1) Only one disk can be moved at a time.\n",
    "\n",
    "(2) A disk is slid off the top of one tower onto another tower.\n",
    "\n",
    "(3) A disk cannot be placed on top of a smaller disk.\n",
    "\n",
    "Write a program to move the disks from the first tower to the last using stacks. \n",
    "\n",
    "*Hints: #144, #224, #250, #272, #318*"
   ]
  },
  {
   "cell_type": "code",
   "execution_count": 0,
   "metadata": {
    "colab": {},
    "colab_type": "code",
    "id": "BwAW3aRmqp68"
   },
   "outputs": [],
   "source": []
  },
  {
   "cell_type": "markdown",
   "metadata": {
    "colab_type": "text",
    "id": "fkydKNvVqrW7"
   },
   "source": [
    "**8.7 Permutations without Dups**\n",
    "\n",
    "Write a method to compute all permutations of a string of unique characters.\n",
    "\n",
    "*Hints: #150, #185, #200, #267, #278, #309, #335, #356*"
   ]
  },
  {
   "cell_type": "code",
   "execution_count": 0,
   "metadata": {
    "colab": {},
    "colab_type": "code",
    "id": "f6USdW0vqvub"
   },
   "outputs": [],
   "source": []
  },
  {
   "cell_type": "markdown",
   "metadata": {
    "colab_type": "text",
    "id": "Y4YT97LfqwPS"
   },
   "source": [
    "**8.8 Permutations with Dups**\n",
    "\n",
    "Write a method to compute all permutations of a string whose characters are not necessarily unique. The list of permutations should not have duplicates.\n",
    "\n",
    "*Hints: #161, #190, #222, #255*"
   ]
  },
  {
   "cell_type": "code",
   "execution_count": 0,
   "metadata": {
    "colab": {},
    "colab_type": "code",
    "id": "JZBIiUfQq2c2"
   },
   "outputs": [],
   "source": []
  },
  {
   "cell_type": "markdown",
   "metadata": {
    "colab_type": "text",
    "id": "CzOiMGYtq4zU"
   },
   "source": [
    "**8.9 Parens**\n",
    "\n",
    "Implement an algorithm to print all valid (e.g., properly opened and closed) combinations of `n` pairs of parentheses.\n",
    "\n",
    "EXAMPLE\n",
    "\n",
    "`Input: ‏‏‎ ‎3`\n",
    "\n",
    "`Output: ((())), (()()), (())(), ()(()), ()()()`\n",
    "\n",
    "*Hints: #138, #174, #187, #209, #243, #265, #295*"
   ]
  },
  {
   "cell_type": "code",
   "execution_count": 0,
   "metadata": {
    "colab": {},
    "colab_type": "code",
    "id": "8EhpMOUmsfT7"
   },
   "outputs": [],
   "source": []
  },
  {
   "cell_type": "markdown",
   "metadata": {
    "colab_type": "text",
    "id": "CXqdRF0q03rf"
   },
   "source": [
    "**8.10 Paint Fill**\n",
    "\n",
    "Implement the \"paint fill\"function that one might see on many image editing programs. That is, given a screen (represented by a two-dimensional array of colors), a point, and a new color, fill in the surrounding area until the color changes from the original color.\n",
    "\n",
    "*Hints: #364, #382*"
   ]
  },
  {
   "cell_type": "code",
   "execution_count": 0,
   "metadata": {
    "colab": {},
    "colab_type": "code",
    "id": "OJtG0EKn1Ba_"
   },
   "outputs": [],
   "source": []
  },
  {
   "cell_type": "markdown",
   "metadata": {
    "colab_type": "text",
    "id": "36esiFtd1CIF"
   },
   "source": [
    "**8.11 Coins**\n",
    "\n",
    "Given an infinite number of quarters (25 cents), dimes (10 cents), nickels (5 cents), and pennies (1 cent), write code to calculate the number of ways of representing `n` cents.\n",
    "\n",
    "*Hints #300, #324, #343, #380, #394*"
   ]
  },
  {
   "cell_type": "code",
   "execution_count": 0,
   "metadata": {
    "colab": {},
    "colab_type": "code",
    "id": "Wt8CPmdS1IH_"
   },
   "outputs": [],
   "source": []
  },
  {
   "cell_type": "markdown",
   "metadata": {
    "colab_type": "text",
    "id": "I7jvKxMF1IyG"
   },
   "source": [
    "**8.12 Eight Queens**\n",
    "\n",
    "Write an algorithm to print all ways of arranging eight queens on an 8x8 chess board so that none of them share the same row, column, or diagonal. In this case, \"diagonal\" means all diagonals, not just the two that bisect the board.\n",
    "\n",
    "*Hints: #308, #350, #371*"
   ]
  },
  {
   "cell_type": "code",
   "execution_count": 0,
   "metadata": {
    "colab": {},
    "colab_type": "code",
    "id": "4QIx2JZn1NR6"
   },
   "outputs": [],
   "source": []
  },
  {
   "cell_type": "markdown",
   "metadata": {
    "colab_type": "text",
    "id": "RJ-A1gVd1Nvp"
   },
   "source": [
    "**8.13 Stack of Boxes**\n",
    "\n",
    "You have a stack of `n` boxes, with widths `w(i)`, heights `h(i)`, and depths `d(i)` The boxes cannot be rotated and can only be stacked on top of one another if each box in the stack is strictly larger than the box above it in width, height, and depth. Implement a method to compute the height of the tallest possible stack. The height of a stack is the sum of the heights of each box.\n",
    "\n",
    "*Hints: #155, #194, #214, #260, #322, #368, #378*"
   ]
  },
  {
   "cell_type": "code",
   "execution_count": 0,
   "metadata": {
    "colab": {},
    "colab_type": "code",
    "id": "Uk0ZCG-I1Upt"
   },
   "outputs": [],
   "source": []
  },
  {
   "cell_type": "markdown",
   "metadata": {
    "colab_type": "text",
    "id": "AR16SkY91VR9"
   },
   "source": [
    "**8.14 Boolean Evaluation**\n",
    "\n",
    "Given a boolean expression consisting of the symbols `0` (False), `1` (True), `&` (AND), `|` (OR), and `^` (XOR), and a desired boolean result value `result` , implement a function to count the number of ways of parenthesizing the expression such that it evaluates to `result`.\n",
    "\n",
    "EXAMPLE\n",
    "\n",
    "`countEval(\"l^0|0|1 , false) -> 2`\n",
    "\n",
    "`countEval(\"0&0&0&l^l|0\", true) -> 10`\n",
    "\n",
    "*Hints: #148, #168, #197, #305, #327*"
   ]
  },
  {
   "cell_type": "code",
   "execution_count": 0,
   "metadata": {
    "colab": {},
    "colab_type": "code",
    "id": "anMN_VBO2Xn3"
   },
   "outputs": [],
   "source": []
  },
  {
   "cell_type": "markdown",
   "metadata": {
    "colab_type": "text",
    "id": "HVe4wKFd2Zv8"
   },
   "source": [
    "## 9. System Design and Scalability"
   ]
  },
  {
   "cell_type": "markdown",
   "metadata": {
    "colab_type": "text",
    "id": "SVFKz-ja2fvg"
   },
   "source": [
    "**9.1 Stock Data**\n",
    "\n",
    "Imagine you are building some sort of service that will be called by up to 1,000 client applications to get simple end-of-day stock price information (open, close, high, low). You may assume that you already have the data, and you can store it in any format you wish. How would you design the client-facing service that provides the information to client applications? You are responsible for the development, rollout, and ongoing monitoring and maintenance of the feed. Describe the different methods you considered and why you would recommend your approach. Your service can use any technologies you wish, and can distribute the information to the client applications in any mechanism you choose.\n",
    "\n",
    "*Hints: #385, #396*"
   ]
  },
  {
   "cell_type": "code",
   "execution_count": 0,
   "metadata": {
    "colab": {},
    "colab_type": "code",
    "id": "xe4QVHBr2fGz"
   },
   "outputs": [],
   "source": []
  },
  {
   "cell_type": "markdown",
   "metadata": {
    "colab_type": "text",
    "id": "XyoOzqlA2pwu"
   },
   "source": [
    "**9.2 Social Network**\n",
    "\n",
    "How would you design the data structures for a very large social network like Facebook or LinkedIn? Describe how you would design an algorithm to show the shortest path between two people (e.g.. Me -> Bob -> Susan -> Jason -> You).\n",
    "\n",
    "*Hints: #270, #285, #304, #321*"
   ]
  },
  {
   "cell_type": "code",
   "execution_count": 0,
   "metadata": {
    "colab": {},
    "colab_type": "code",
    "id": "i4AHWSYi2vlg"
   },
   "outputs": [],
   "source": []
  },
  {
   "cell_type": "markdown",
   "metadata": {
    "colab_type": "text",
    "id": "HHHAErr02wRV"
   },
   "source": [
    "**9.3 Web Crawler**\n",
    "\n",
    "If you were designing a web crawler, how would you avoid getting into infinite loops?\n",
    "\n",
    "*Hints: #334, #353, #365*"
   ]
  },
  {
   "cell_type": "code",
   "execution_count": 0,
   "metadata": {
    "colab": {},
    "colab_type": "code",
    "id": "v4F6pUmG21fP"
   },
   "outputs": [],
   "source": []
  },
  {
   "cell_type": "markdown",
   "metadata": {
    "colab_type": "text",
    "id": "7WlKo3re22C9"
   },
   "source": [
    "**9.4 Duplicate URLs**\n",
    "\n",
    "You have 10 billion URLs. How do you detect the duplicate documents? In this case, assume \"duplicate\" means that the URLs are identical.\n",
    "\n",
    "*Hints: #326, #347*"
   ]
  },
  {
   "cell_type": "code",
   "execution_count": 0,
   "metadata": {
    "colab": {},
    "colab_type": "code",
    "id": "3Kb2evnh28i-"
   },
   "outputs": [],
   "source": []
  },
  {
   "cell_type": "markdown",
   "metadata": {
    "colab_type": "text",
    "id": "1IlfULjw29Z1"
   },
   "source": [
    "**9.5 Cache**\n",
    "\n",
    "Imagine a web server for a simplified search engine. This system has 100 machines to respond to search queries, which may then call out using `processSearch(string query)` to another cluster of machines to actually get the result. The machine which responds to a given query is chosen at random, so you cannot guarantee that the same machine will always respond to the same request. The method `processSearch` is very expensive. Design a caching mechanism for the most recent queries. Be sure to explain how you would update the cache when data changes.\n",
    "\n",
    "*Hints: #259, #274, #293, #311*"
   ]
  },
  {
   "cell_type": "code",
   "execution_count": 0,
   "metadata": {
    "colab": {},
    "colab_type": "code",
    "id": "CIRTwnom3OIF"
   },
   "outputs": [],
   "source": []
  },
  {
   "cell_type": "markdown",
   "metadata": {
    "colab_type": "text",
    "id": "UTg2Hht73S4Q"
   },
   "source": [
    "**9.6 Sales Rank**\n",
    "\n",
    "A large eCommerce company wishes to list the best-setling products, overall and by category. For example, one product might be the #1056th best-selling product overall but the #13th best-selling product under \"Sports Equipment\" and the #24th best-seiling product under \"Safety.\" Describe how you would design this system.\n",
    "\n",
    "*Hints: #142, #158, #176, #189, #208, #223, #236, #244*\n"
   ]
  },
  {
   "cell_type": "code",
   "execution_count": 0,
   "metadata": {
    "colab": {},
    "colab_type": "code",
    "id": "vm5LlT1D3box"
   },
   "outputs": [],
   "source": []
  },
  {
   "cell_type": "markdown",
   "metadata": {
    "colab_type": "text",
    "id": "gm5qL4H13cH_"
   },
   "source": [
    "**9.7 Personal Financial Manager**\n",
    "\n",
    "Explain how you would design a personal financial manager (like Mint.com). This system would connect to your bank accounts, analyze your spending habits, and make recommendations.\n",
    "\n",
    "*Hints: #162, #180, #199, #212, #247, #276*"
   ]
  },
  {
   "cell_type": "code",
   "execution_count": 0,
   "metadata": {
    "colab": {},
    "colab_type": "code",
    "id": "qXCQBO0u3lY1"
   },
   "outputs": [],
   "source": []
  },
  {
   "cell_type": "markdown",
   "metadata": {
    "colab_type": "text",
    "id": "3z0FP2Mp3mCq"
   },
   "source": [
    "**9.8 Pastebin**\n",
    "\n",
    "Design a system like Pastebin, where a user can enter a piece of text and get a randomly generated URL to access it.\n",
    "\n",
    "*Hints: #165, #184, #206, #232*"
   ]
  },
  {
   "cell_type": "code",
   "execution_count": 0,
   "metadata": {
    "colab": {},
    "colab_type": "code",
    "id": "0iwxwjOT3qrB"
   },
   "outputs": [],
   "source": []
  },
  {
   "cell_type": "markdown",
   "metadata": {
    "colab_type": "text",
    "id": "8-DpDNYG3tA2"
   },
   "source": [
    "## 10. Sorting and Searching"
   ]
  },
  {
   "cell_type": "markdown",
   "metadata": {
    "colab_type": "text",
    "id": "mfmfM-xI3svG"
   },
   "source": [
    "**10.1 Sorted Merge**\n",
    "\n",
    "You are given two sorted arrays, `A` and `B`, where `A` has a large enough buffer at the\n",
    "end to hold `B`. Write a method to merge `B` into `A` in sorted order.\n",
    "\n",
    "*Hints: #332*"
   ]
  },
  {
   "cell_type": "code",
   "execution_count": 0,
   "metadata": {
    "colab": {},
    "colab_type": "code",
    "id": "Fg5BOgAC32HO"
   },
   "outputs": [],
   "source": []
  },
  {
   "cell_type": "markdown",
   "metadata": {
    "colab_type": "text",
    "id": "kRyncWxB36ui"
   },
   "source": [
    "**10.2 Group Anagrams**\n",
    "\n",
    "Write a method to sort an array of strings so that all the anagrams are next to each other.\n",
    "\n",
    "*Hints: #177, #182, #263, #342*"
   ]
  },
  {
   "cell_type": "code",
   "execution_count": 0,
   "metadata": {
    "colab": {},
    "colab_type": "code",
    "id": "5lHQOvjm4Zeh"
   },
   "outputs": [],
   "source": []
  },
  {
   "cell_type": "markdown",
   "metadata": {
    "colab_type": "text",
    "id": "p9Sbzrxb4lbL"
   },
   "source": [
    "**10.3 Search in Rotated Array**\n",
    "\n",
    "Given a sorted array of `n` integers that has been rotated an unknown number of times, write code to find an element in the array. You may assume that the array was originally sorted in increasing order.\n",
    "\n",
    "EXAMPLE\n",
    "\n",
    "`Input: ‏‏‎ ‎find 5 in {15, 16, 19, 20, 25, 1, 3, 4, 5, 7, 10, 14}`\n",
    "\n",
    "`Output: 8 (the index of 5 in the array)`\n",
    "\n",
    "*Hints: #298, #310*"
   ]
  },
  {
   "cell_type": "code",
   "execution_count": 0,
   "metadata": {
    "colab": {},
    "colab_type": "code",
    "id": "Lfv-A0B8-JzX"
   },
   "outputs": [],
   "source": []
  },
  {
   "cell_type": "markdown",
   "metadata": {
    "colab_type": "text",
    "id": "4jJRpKiVDtYS"
   },
   "source": [
    "**10.4 Sorted Search, No Size**\n",
    "\n",
    "You are given an array-like data structure `Listy` which lacks a size method. It does, however, have an `elementAt(i)` method that returns the element at index `i` in O(1) time, if i is beyond the bounds of the data structure, it returns -1. (For this reason, the data structure only supports positive integers.) Given a `Listy` which contains sorted, positive integers, find the index at which an element `x` occurs. If `x` occurs multiple times, you may return any index.\n",
    "\n",
    "*Hints: #320, #337, #348*"
   ]
  },
  {
   "cell_type": "code",
   "execution_count": 0,
   "metadata": {
    "colab": {},
    "colab_type": "code",
    "id": "4SO2PyUsEHeJ"
   },
   "outputs": [],
   "source": []
  },
  {
   "cell_type": "markdown",
   "metadata": {
    "colab_type": "text",
    "id": "-2QIyITREIYY"
   },
   "source": [
    "**10.5 Sparse Search**\n",
    "\n",
    "Given a sorted array of strings that is interspersed with empty strings, write a method to find the location of a given string.\n",
    "\n",
    "EXAMPLE\n",
    "\n",
    "`Input: ‏‏‎ ‎ball, {\"at\", \"\", \"\", \"\", \"ball\", \"\", \"\", \"car\", \"\", \"\", \"dad\", \"\", \"\"}`\n",
    "\n",
    "`Output: 4`\n",
    "\n",
    "*Hints: #256*"
   ]
  },
  {
   "cell_type": "code",
   "execution_count": 0,
   "metadata": {
    "colab": {},
    "colab_type": "code",
    "id": "eByAMaNdEueE"
   },
   "outputs": [],
   "source": []
  },
  {
   "cell_type": "markdown",
   "metadata": {
    "colab_type": "text",
    "id": "9VdAAhy-EvI4"
   },
   "source": [
    "**10.6 Sort Big File**\n",
    "\n",
    "Imagine you have a 20 GB file with one string per line. Explain how you would sort the file.\n",
    "\n",
    "*Hints: #207*"
   ]
  },
  {
   "cell_type": "code",
   "execution_count": 0,
   "metadata": {
    "colab": {},
    "colab_type": "code",
    "id": "o1m0hUnxE0SZ"
   },
   "outputs": [],
   "source": []
  },
  {
   "cell_type": "markdown",
   "metadata": {
    "colab_type": "text",
    "id": "8bSx1h_-E071"
   },
   "source": [
    "**10.7 Missing Int**\n",
    "\n",
    "Given an input file with four billion non-negative integers, provide an algorithm to generate an integer that is not contained in the file. Assume you have 1 GB of memory available for this task.\n",
    "\n",
    "FOLLOW UP\n",
    "\n",
    "What if you have only 10 MB of memory? Assume that ail the values are distinct and we now have no more than one billion non-negative integers.\n",
    "\n",
    "*Hints: #235, #254, #281*"
   ]
  },
  {
   "cell_type": "code",
   "execution_count": 0,
   "metadata": {
    "colab": {},
    "colab_type": "code",
    "id": "NKQsxgA3E9yn"
   },
   "outputs": [],
   "source": []
  },
  {
   "cell_type": "markdown",
   "metadata": {
    "colab_type": "text",
    "id": "YXpNqYEpE-Un"
   },
   "source": [
    "**10.8 Find Duplicates**\n",
    "\n",
    "You have an array with all the numbers from 1 to `N`, where `N` is at most 32,000.The array may have duplicate entries and you do not know what `N` is. With only 4 kilobytes of memory available, how would you print all duplicate elements in the array?\n",
    "\n",
    "*Hints; #289, #315*"
   ]
  },
  {
   "cell_type": "code",
   "execution_count": 0,
   "metadata": {
    "colab": {},
    "colab_type": "code",
    "id": "ik9erKi2FFPe"
   },
   "outputs": [],
   "source": []
  },
  {
   "cell_type": "markdown",
   "metadata": {
    "colab_type": "text",
    "id": "BAkEB2uWFFxV"
   },
   "source": [
    "**10.9 Sorted Matrix Search**\n",
    "\n",
    "Given an M x N matrix in which each row and each column is sorted in\n",
    "ascending order, write a method to find an element.\n",
    "\n",
    "*Hints: #193, #211, #229, #251, #266, #279, #288, #291, #303, #317, #330*"
   ]
  },
  {
   "cell_type": "code",
   "execution_count": 0,
   "metadata": {
    "colab": {},
    "colab_type": "code",
    "id": "ynZaZYlAFOxt"
   },
   "outputs": [],
   "source": []
  },
  {
   "cell_type": "markdown",
   "metadata": {
    "colab_type": "text",
    "id": "x7VAwNqNFPaQ"
   },
   "source": [
    "**10.10 Rank from Stream**\n",
    "\n",
    "Imagine you are reading in a stream of integers. Periodically, you wish to be able to look up the rank of a number `x` (the number of values less than or equal to `x`). Implement the data structures and algorithms to support these operations. That is, implement the method `track(int x)`, which is called when each number is generated, and the method `getRankOfNumber(int x)`, which returns the number of values tess than or equal to `x` (not including `x` itself).\n",
    "\n",
    "EXAMPLE\n",
    "\n",
    "`Stream (in order of appearance): 5, 1, 4, 4, 5, 9, 7, 13, 3`\n",
    "\n",
    "`getRankOfNumber(l) = 0`\n",
    "\n",
    "`getRank0fNumber(3) = 1`\n",
    "\n",
    "`getRank0fNumber(4) = 3`\n",
    "\n",
    "*Hints: #301, #376, #392*\n"
   ]
  },
  {
   "cell_type": "code",
   "execution_count": 0,
   "metadata": {
    "colab": {},
    "colab_type": "code",
    "id": "oUuFUGRdFw8U"
   },
   "outputs": [],
   "source": []
  },
  {
   "cell_type": "markdown",
   "metadata": {
    "colab_type": "text",
    "id": "vTnsUqw0FzpX"
   },
   "source": [
    "**10.11 Peaks and Valleys**\n",
    "\n",
    "In an array of integers, a \"peak\" is an element which is greater than or equal to the adjacent integers and a \"valley\" is an element which is less than or equal to the adjacent integers. For example, in the array `{5, 8, 6, 2, 3, 4, 6)`, `{8, 6}` are peaks and `{5, 2}` are valleys. Given an array of integers, sort the array into an alternating sequence of peaks and valleys.\n",
    "\n",
    "EXAMPLE\n",
    "\n",
    "`Input: ‏‏‎ ‎{5, 3, 1, 2, 3}`\n",
    "\n",
    "`Output: {5, 1, 3, 2, 3}`\n",
    "\n",
    "*Hints: #196, #219, #231, #253, #277, #292, #316*"
   ]
  },
  {
   "cell_type": "code",
   "execution_count": 0,
   "metadata": {
    "colab": {},
    "colab_type": "code",
    "id": "gc2IRX6EGKJu"
   },
   "outputs": [],
   "source": []
  },
  {
   "cell_type": "markdown",
   "metadata": {
    "colab_type": "text",
    "id": "NtBAXCxAGNL9"
   },
   "source": [
    "## 11. Testing"
   ]
  },
  {
   "cell_type": "markdown",
   "metadata": {
    "colab_type": "text",
    "id": "PR_n4jb8GPP-"
   },
   "source": [
    "**11.1 Mistake**\n",
    "\n",
    "Find the mistake(s) in the following code:\n",
    "\n",
    "```\n",
    "unsigned int i;\n",
    "for (i = 100; i >= 0; --i)\n",
    "  printf(\"%d\\n\", i);\n",
    "```\n",
    "\n",
    "*Hints: #257, #299, #362*"
   ]
  },
  {
   "cell_type": "code",
   "execution_count": 0,
   "metadata": {
    "colab": {},
    "colab_type": "code",
    "id": "iXbOiJP9GOp9"
   },
   "outputs": [],
   "source": []
  },
  {
   "cell_type": "markdown",
   "metadata": {
    "colab_type": "text",
    "id": "6zEro7HnHN-s"
   },
   "source": [
    "**11.2 Random Crashes**\n",
    "\n",
    "You are given the source to an application which crashes when it is run. After running it ten times in a debugger, you find it never crashes in the same place. The application is single threaded, and uses only the C standard library. What programming errors could be causing this crash? How would you test each one?\n",
    "\n",
    "*Hints: #325*"
   ]
  },
  {
   "cell_type": "code",
   "execution_count": 0,
   "metadata": {
    "colab": {},
    "colab_type": "code",
    "id": "bvMvjvsSHT9O"
   },
   "outputs": [],
   "source": []
  },
  {
   "cell_type": "markdown",
   "metadata": {
    "colab_type": "text",
    "id": "YntYXv9OHWnN"
   },
   "source": [
    "**11.3 Chess Test**\n",
    "\n",
    "We have the following method used in a chess game: `boolean canMoveTo(int x, int y)`. This method is part of the `Piece` class and returns whether or not the piece can move to position `( x , y )` . Explain how you would test this method.\n",
    "\n",
    "*Hints: #329, #401*\n",
    "\n"
   ]
  },
  {
   "cell_type": "code",
   "execution_count": 0,
   "metadata": {
    "colab": {},
    "colab_type": "code",
    "id": "ZBXjPaLqHqQg"
   },
   "outputs": [],
   "source": []
  },
  {
   "cell_type": "markdown",
   "metadata": {
    "colab_type": "text",
    "id": "ApexaXi6Hq7H"
   },
   "source": [
    "**11.4 No Test Tools**\n",
    "\n",
    "How would you load test a webpage without using any test tools? \n",
    "\n",
    "*Hints: #313, #345*"
   ]
  },
  {
   "cell_type": "code",
   "execution_count": 0,
   "metadata": {
    "colab": {},
    "colab_type": "code",
    "id": "OvWsnAxCHxWA"
   },
   "outputs": [],
   "source": []
  },
  {
   "cell_type": "markdown",
   "metadata": {
    "colab_type": "text",
    "id": "GLeslZujHysU"
   },
   "source": [
    "**11.5 Test a Pen**\n",
    "\n",
    "How would you test a pen?\n",
    "\n",
    "*Hints: #140, #164, #220*"
   ]
  },
  {
   "cell_type": "code",
   "execution_count": 0,
   "metadata": {
    "colab": {},
    "colab_type": "code",
    "id": "1sNWTpcOH3iu"
   },
   "outputs": [],
   "source": []
  },
  {
   "cell_type": "markdown",
   "metadata": {
    "colab_type": "text",
    "id": "4zo-XnT1H6Fr"
   },
   "source": [
    "**11.6 Test an ATM**\n",
    "\n",
    "How would you test an ATM in a distributed banking system?\n",
    "\n",
    "*Hints: #210, #225, #268, #349, #393*"
   ]
  },
  {
   "cell_type": "code",
   "execution_count": 0,
   "metadata": {
    "colab": {},
    "colab_type": "code",
    "id": "TwtsdNr-H-Ym"
   },
   "outputs": [],
   "source": []
  },
  {
   "cell_type": "markdown",
   "metadata": {
    "colab_type": "text",
    "id": "2MTThzOFIBe0"
   },
   "source": [
    "## 12. C and C++"
   ]
  },
  {
   "cell_type": "markdown",
   "metadata": {
    "colab_type": "text",
    "id": "4oQiQ9gOIH2A"
   },
   "source": [
    "**12.1 Last K Lines**\n",
    "\n",
    "Write a method to print the last K lines of an input file using C++.\n",
    "\n",
    "*Hints: #449, #459*"
   ]
  },
  {
   "cell_type": "code",
   "execution_count": 0,
   "metadata": {
    "colab": {},
    "colab_type": "code",
    "id": "4TuTFKpGIHQs"
   },
   "outputs": [],
   "source": []
  },
  {
   "cell_type": "markdown",
   "metadata": {
    "colab_type": "text",
    "id": "oXhgUIRTIq6o"
   },
   "source": [
    "**12.2 Reverse String**\n",
    "\n",
    "Implement a function `void reverse(char* str)` in C or C++ which reverses a null-terminated string.\n",
    "\n",
    "*Hints: #410, #452*"
   ]
  },
  {
   "cell_type": "code",
   "execution_count": 0,
   "metadata": {
    "colab": {},
    "colab_type": "code",
    "id": "wQmMyO4GI1Vv"
   },
   "outputs": [],
   "source": []
  },
  {
   "cell_type": "markdown",
   "metadata": {
    "colab_type": "text",
    "id": "JGIxEmy1I2hy"
   },
   "source": [
    "**12.3 Hash Table vs. STL Map**\n",
    "\n",
    "Compare and contrast a hash table and an STL map. How is a hash table implemented? If the number of inputs is small, which data structure options can be used instead of a hash table?\n",
    "\n",
    "*Hints: #423*"
   ]
  },
  {
   "cell_type": "code",
   "execution_count": 0,
   "metadata": {
    "colab": {},
    "colab_type": "code",
    "id": "2nWh7IkRI84k"
   },
   "outputs": [],
   "source": []
  },
  {
   "cell_type": "markdown",
   "metadata": {
    "colab_type": "text",
    "id": "R1mR3yG1I_Il"
   },
   "source": [
    "**12.4 Virtual Functions**\n",
    "\n",
    "How do virtual functions work in C++?\n",
    "\n",
    "*Hints: #463*"
   ]
  },
  {
   "cell_type": "code",
   "execution_count": 0,
   "metadata": {
    "colab": {},
    "colab_type": "code",
    "id": "ixPofnvtJCiT"
   },
   "outputs": [],
   "source": []
  },
  {
   "cell_type": "markdown",
   "metadata": {
    "colab_type": "text",
    "id": "zvqzOd9MJEC9"
   },
   "source": [
    "**12.5  Shallow vs. Deep Copy**\n",
    "\n",
    "What is the difference between deep copy and shallow copy? Explain how you would use each.\n",
    "\n",
    "*Hints: #445*"
   ]
  },
  {
   "cell_type": "code",
   "execution_count": 0,
   "metadata": {
    "colab": {},
    "colab_type": "code",
    "id": "N8FAOh3WJMFn"
   },
   "outputs": [],
   "source": []
  },
  {
   "cell_type": "markdown",
   "metadata": {
    "colab_type": "text",
    "id": "9Rappn4sJOv1"
   },
   "source": [
    "**12.6 Volatile**\n",
    "\n",
    "What is the significance of the keyword \"volatile\" in C? \n",
    "\n",
    "*Hints: #456*"
   ]
  },
  {
   "cell_type": "code",
   "execution_count": 0,
   "metadata": {
    "colab": {},
    "colab_type": "code",
    "id": "DBENf-E5JUd3"
   },
   "outputs": [],
   "source": []
  },
  {
   "cell_type": "markdown",
   "metadata": {
    "colab_type": "text",
    "id": "ojmuOorZJXll"
   },
   "source": [
    "**12.7 Virtual Base Class**\n",
    " \n",
    "Why does a destructor in base class need to be declared `virtual`? \n",
    "\n",
    "*Hints: #421, #460*"
   ]
  },
  {
   "cell_type": "code",
   "execution_count": 0,
   "metadata": {
    "colab": {},
    "colab_type": "code",
    "id": "NT58ZyvfJiA9"
   },
   "outputs": [],
   "source": []
  },
  {
   "cell_type": "markdown",
   "metadata": {
    "colab_type": "text",
    "id": "nPkLGUMfJil_"
   },
   "source": [
    "**12.8 Copy Node**\n",
    "\n",
    "Write a method that takes a pointer to a Node structure as a parameter and returns a complete copy of the passed in data structure. The Node data structure contains two pointers to other Nodes.\n",
    "\n",
    "*Hints: #427, #462*"
   ]
  },
  {
   "cell_type": "code",
   "execution_count": 0,
   "metadata": {
    "colab": {},
    "colab_type": "code",
    "id": "6M18eGAtJt5M"
   },
   "outputs": [],
   "source": []
  },
  {
   "cell_type": "markdown",
   "metadata": {
    "colab_type": "text",
    "id": "x0JTI9J1JuaJ"
   },
   "source": [
    "**12.9 Smart Pointer**\n",
    "\n",
    "Write a smart pointer class. A smart pointer is a data type, usually implemented with templates, that simulates a pointer while also providing automatic garbage collection. It automatically counts the number of references to a `SmartPointer<T*>` object and frees the object of type `T` when the reference count hits zero.\n",
    "\n",
    "*Hints: #402, #438, #453*"
   ]
  },
  {
   "cell_type": "code",
   "execution_count": 0,
   "metadata": {
    "colab": {},
    "colab_type": "code",
    "id": "zSr5OVQvJ5fg"
   },
   "outputs": [],
   "source": []
  },
  {
   "cell_type": "markdown",
   "metadata": {
    "colab_type": "text",
    "id": "9f0AenGrJ6IE"
   },
   "source": [
    "**12.10 Malloc**\n",
    "\n",
    "Write an aligned malloc and free function that supports allocating memory such that the memory address returned is divisible by a specific power of two.\n",
    "\n",
    "EXAMPLE\n",
    "\n",
    "`align_malloc(1000,128)` will return a memory address that is a multiple of 128 and that points to memory of size 1000 bytes.\n",
    "\n",
    "`aligned_free()` will free memory allocated by `align_malloc`.\n",
    "\n",
    "*Hints: #413, #432, #440*"
   ]
  },
  {
   "cell_type": "code",
   "execution_count": 0,
   "metadata": {
    "colab": {},
    "colab_type": "code",
    "id": "cpMT5EnoKOiK"
   },
   "outputs": [],
   "source": []
  },
  {
   "cell_type": "markdown",
   "metadata": {
    "colab_type": "text",
    "id": "TvMAsO_WKRob"
   },
   "source": [
    "**12.11 2D Alloc**\n",
    "\n",
    "Write a function in C called `my2DAlloc` which allocates a two-dimensional array. Minimize the number of calls to `malloc` and make sure that the memory is accessible by the notation `arr[i][j]`.\n",
    "\n",
    "*Hints: #406, #418, #426*"
   ]
  },
  {
   "cell_type": "code",
   "execution_count": 0,
   "metadata": {
    "colab": {},
    "colab_type": "code",
    "id": "2Df4uaBDKjHt"
   },
   "outputs": [],
   "source": []
  },
  {
   "cell_type": "markdown",
   "metadata": {
    "colab_type": "text",
    "id": "Xe2w5BPOKnJ1"
   },
   "source": [
    "## 13. Java"
   ]
  },
  {
   "cell_type": "markdown",
   "metadata": {
    "colab_type": "text",
    "id": "s-lQGEFaPYoR"
   },
   "source": [
    "**13.1 Private Constructor**\n",
    "\n",
    "In terms of inheritance, what is the effect of keeping a constructor private?\n",
    "\n",
    "*Hints: #404*"
   ]
  },
  {
   "cell_type": "code",
   "execution_count": 0,
   "metadata": {
    "colab": {},
    "colab_type": "code",
    "id": "Tfs7xWoRKo-U"
   },
   "outputs": [],
   "source": []
  },
  {
   "cell_type": "markdown",
   "metadata": {
    "colab_type": "text",
    "id": "SvbgVgyjPh0F"
   },
   "source": [
    "**13.2 Return from Finally**\n",
    "\n",
    "In Java, does the `finally` block get executed if we insert a `return` statement inside the try block of a `try-catch-finally`?\n",
    "\n",
    "*Hints: #409*"
   ]
  },
  {
   "cell_type": "code",
   "execution_count": 0,
   "metadata": {
    "colab": {},
    "colab_type": "code",
    "id": "CbovC7-OPuOA"
   },
   "outputs": [],
   "source": []
  },
  {
   "cell_type": "markdown",
   "metadata": {
    "colab_type": "text",
    "id": "j50zfAvNPve8"
   },
   "source": [
    "**13.3 Final, etc.**\n",
    "\n",
    "What is the difference between `final`, `finally`, and `finalize`?\n",
    "\n",
    "*Hints: #412*"
   ]
  },
  {
   "cell_type": "code",
   "execution_count": 0,
   "metadata": {
    "colab": {},
    "colab_type": "code",
    "id": "_fEmqvNiP5bN"
   },
   "outputs": [],
   "source": []
  },
  {
   "cell_type": "markdown",
   "metadata": {
    "colab_type": "text",
    "id": "s6iBwxK3P52R"
   },
   "source": [
    "**13.4 Generics vs. Templates**\n",
    "\n",
    "Explain the difference between templates in C++ and generics in Java.\n",
    "\n",
    "*Hints: #416, #425*"
   ]
  },
  {
   "cell_type": "code",
   "execution_count": 0,
   "metadata": {
    "colab": {},
    "colab_type": "code",
    "id": "Rg9cxYpnQAt3"
   },
   "outputs": [],
   "source": []
  },
  {
   "cell_type": "markdown",
   "metadata": {
    "colab_type": "text",
    "id": "3H_EzeK6QDWh"
   },
   "source": [
    "**13.5 TreeMap, HashMap, LinkedHashMap**\n",
    "\n",
    "Explain the differences between `TreeMap`, `HashMap`, and `LinkedHashMap`. Provide an example of when each one would be best.\n",
    "\n",
    "*Hints: #420, #424, #430, #454*"
   ]
  },
  {
   "cell_type": "code",
   "execution_count": 0,
   "metadata": {
    "colab": {},
    "colab_type": "code",
    "id": "YndYzh0CQJ-N"
   },
   "outputs": [],
   "source": []
  },
  {
   "cell_type": "markdown",
   "metadata": {
    "colab_type": "text",
    "id": "Q5BV3Xw9QLf7"
   },
   "source": [
    "**13.6 Object Reflection**\n",
    "\n",
    "Explain what object reflection is in Java and why it is useful.\n",
    "\n",
    "*Hints: #435*"
   ]
  },
  {
   "cell_type": "code",
   "execution_count": 0,
   "metadata": {
    "colab": {},
    "colab_type": "code",
    "id": "ZlT3wRR9QQLV"
   },
   "outputs": [],
   "source": []
  },
  {
   "cell_type": "markdown",
   "metadata": {
    "colab_type": "text",
    "id": "TyZrnO8EQSH3"
   },
   "source": [
    "**13.7 Lambda Expressions**\n",
    "\n",
    "There is a class `Country` that has methods `getContinent()` and `getPopulation()`. Write a function `int getPopulation(List<Country> countries, String continent)` that computes the total population of a given continent, given a list of all countries and the name of a continent.\n",
    "\n",
    "*Hints: #448, #461, #464*"
   ]
  },
  {
   "cell_type": "code",
   "execution_count": 0,
   "metadata": {
    "colab": {},
    "colab_type": "code",
    "id": "N23NFxwSQrK1"
   },
   "outputs": [],
   "source": []
  },
  {
   "cell_type": "markdown",
   "metadata": {
    "colab_type": "text",
    "id": "AaOT-WcgQr3_"
   },
   "source": [
    "**13.8 Lambda Random**\n",
    "\n",
    "Using `Lambda` expressions, write a function `List(<Integer> getRandomSubset(List<Integer> list)` that returns a random subset of arbitrary size. All subsets (including the empty set) should be equally likely to be chosen.\n",
    "\n",
    "*Hints: #443, #450, #457*"
   ]
  },
  {
   "cell_type": "code",
   "execution_count": 0,
   "metadata": {
    "colab": {},
    "colab_type": "code",
    "id": "G5M8MlsnRLjx"
   },
   "outputs": [],
   "source": []
  },
  {
   "cell_type": "markdown",
   "metadata": {
    "colab_type": "text",
    "id": "qtglIhtPRMt3"
   },
   "source": [
    "## 14. Databases"
   ]
  },
  {
   "cell_type": "markdown",
   "metadata": {
    "colab_type": "text",
    "id": "3BPwRz0ERQ54"
   },
   "source": [
    "**14.1 Multiple Apartments**\n",
    "\n",
    "Write a SQL query to get a list of tenants who are renting more than one apartment.\n",
    "\n",
    "*Hints: #408*"
   ]
  },
  {
   "cell_type": "code",
   "execution_count": 0,
   "metadata": {
    "colab": {},
    "colab_type": "code",
    "id": "-3q2tV2bRQRF"
   },
   "outputs": [],
   "source": []
  },
  {
   "cell_type": "markdown",
   "metadata": {
    "colab_type": "text",
    "id": "1VPVrf3CRYTm"
   },
   "source": [
    "**14.2 Open Requests**\n",
    "\n",
    "Write a SQL query to get a list of all buildings and the number of open requests\n",
    "(Requests in which `status` equals `'Open'`).\n",
    "\n",
    "*Hints: #411*"
   ]
  },
  {
   "cell_type": "code",
   "execution_count": 0,
   "metadata": {
    "colab": {},
    "colab_type": "code",
    "id": "5AJeTtrARo0K"
   },
   "outputs": [],
   "source": []
  },
  {
   "cell_type": "markdown",
   "metadata": {
    "colab_type": "text",
    "id": "ozAzZU9nRpyD"
   },
   "source": [
    "**14.3 Close All Requests**\n",
    "\n",
    "Building #11 is undergoing a major renovation. Implement a query to close all requests from apartments in this building.\n",
    "\n",
    "*Hints: #431*"
   ]
  },
  {
   "cell_type": "code",
   "execution_count": 0,
   "metadata": {
    "colab": {},
    "colab_type": "code",
    "id": "HweOo8WCRwq5"
   },
   "outputs": [],
   "source": []
  },
  {
   "cell_type": "markdown",
   "metadata": {
    "colab_type": "text",
    "id": "NGLWcz6rRxFf"
   },
   "source": [
    "**14.4 Joins**\n",
    "\n",
    "What are the different types of joins? Please explain how they differ and why certain types are better in certain situations.\n",
    "\n",
    "*Hints: #451*"
   ]
  },
  {
   "cell_type": "code",
   "execution_count": 0,
   "metadata": {
    "colab": {},
    "colab_type": "code",
    "id": "obz-khTLR4qX"
   },
   "outputs": [],
   "source": []
  },
  {
   "cell_type": "markdown",
   "metadata": {
    "colab_type": "text",
    "id": "U6RVi4QaR5PK"
   },
   "source": [
    "**14.5 Denormaiization**\n",
    "\n",
    "What is denormalization? Explain the pros and cons.\n",
    "\n",
    "*Hints: #444, #455*"
   ]
  },
  {
   "cell_type": "code",
   "execution_count": 0,
   "metadata": {
    "colab": {},
    "colab_type": "code",
    "id": "NNAwFP9HSANO"
   },
   "outputs": [],
   "source": []
  },
  {
   "cell_type": "markdown",
   "metadata": {
    "colab_type": "text",
    "id": "aL1m7WjhSBvP"
   },
   "source": [
    "**14.6 Entity-Relationship Diagram**\n",
    "\n",
    "Draw an entity-relationship diagram for a database with companies, people, and professionals (people who work for companies).\n",
    "\n",
    "*Hints: #436*"
   ]
  },
  {
   "cell_type": "code",
   "execution_count": 0,
   "metadata": {
    "colab": {},
    "colab_type": "code",
    "id": "52PP2WtLSIst"
   },
   "outputs": [],
   "source": []
  },
  {
   "cell_type": "markdown",
   "metadata": {
    "colab_type": "text",
    "id": "5W727SuzSKaj"
   },
   "source": [
    "**14.7 Design Grade Database**\n",
    "\n",
    "Imagine a simple database storing information for students' grades. Design what this database might look like and provide a SQL query to return a list of the honor roll students (top 10%), sorted by their grade point average.\n",
    "\n",
    "*Hints: #428, #442*"
   ]
  },
  {
   "cell_type": "code",
   "execution_count": 0,
   "metadata": {
    "colab": {},
    "colab_type": "code",
    "id": "0VuHp5fYSQ_S"
   },
   "outputs": [],
   "source": []
  },
  {
   "cell_type": "markdown",
   "metadata": {
    "colab_type": "text",
    "id": "aTybWWwKSWKS"
   },
   "source": [
    "## 15. Threads and Locks"
   ]
  },
  {
   "cell_type": "markdown",
   "metadata": {
    "colab_type": "text",
    "id": "ttC_cZy9SX1n"
   },
   "source": [
    "**15.1 Thread vs. Process**\n",
    "\n",
    "What's the difference between a thread and a process?\n",
    "\n",
    "*Hints: #405*"
   ]
  },
  {
   "cell_type": "code",
   "execution_count": 0,
   "metadata": {
    "colab": {},
    "colab_type": "code",
    "id": "vZLXf7_iSXVD"
   },
   "outputs": [],
   "source": []
  },
  {
   "cell_type": "markdown",
   "metadata": {
    "colab_type": "text",
    "id": "o6gHLVhHSgaV"
   },
   "source": [
    "**15.2 Context Switch**\n",
    "\n",
    "How would you measure the time spent in a context switch?\n",
    "\n",
    "*Hints: #403, #407, #415, #441*"
   ]
  },
  {
   "cell_type": "code",
   "execution_count": 0,
   "metadata": {
    "colab": {},
    "colab_type": "code",
    "id": "BQ7-vkaLSuQn"
   },
   "outputs": [],
   "source": []
  },
  {
   "cell_type": "markdown",
   "metadata": {
    "colab_type": "text",
    "id": "mpybVtZnSwn8"
   },
   "source": [
    "**15.3 Dining Philosophers**\n",
    "\n",
    "In the famous dining philosophers problem, a bunch of philosophers are sitting around a circular table with one chopstick between each of them. A philosopher needs both chopsticks to eat, and always picks up the left chopstick before the right one. A deadlock could potentially occur if all the philosophers reached for the left chopstick at the same time. Using threads and locks, implement a simulation of the dining philosophers problem that prevents deadlocks.\n",
    "\n",
    "*Hints: #479,#437*"
   ]
  },
  {
   "cell_type": "code",
   "execution_count": 0,
   "metadata": {
    "colab": {},
    "colab_type": "code",
    "id": "gWygmi1VS5_k"
   },
   "outputs": [],
   "source": []
  },
  {
   "cell_type": "markdown",
   "metadata": {
    "colab_type": "text",
    "id": "Bge-YLSpS6k9"
   },
   "source": [
    "**15.4 Deadlock-Free Class**\n",
    "\n",
    "Design a class which provides a lock only if there are no possible deadlocks.\n",
    "\n",
    "*Hints: #422, #434*"
   ]
  },
  {
   "cell_type": "code",
   "execution_count": 0,
   "metadata": {
    "colab": {},
    "colab_type": "code",
    "id": "bzK1c7uLTCst"
   },
   "outputs": [],
   "source": []
  },
  {
   "cell_type": "markdown",
   "metadata": {
    "colab_type": "text",
    "id": "qHmecFCTTExr"
   },
   "source": [
    "**15.5 Call In Order**\n",
    "\n",
    "Suppose we have the following code:\n",
    "```\n",
    "public class Foo {\n",
    "  public Foo() { ... }\n",
    "  public void first() { ... } \n",
    "  public void second() { ... }\n",
    "  public void third() { ... }\n",
    "}\n",
    "```\n",
    "\n",
    "The same instance of Foo will be passed to three different threads. `ThreadA` will call `first` , `threadB` will call `second`, and `threadC` will call `third`. Design a mechanism to ensure that `first` is called before `second` and `second` is called before `third`.\n",
    "\n",
    "*Hints: #417, #433, #446*\n"
   ]
  },
  {
   "cell_type": "code",
   "execution_count": 0,
   "metadata": {
    "colab": {},
    "colab_type": "code",
    "id": "PDgOK_9DU7-e"
   },
   "outputs": [],
   "source": []
  },
  {
   "cell_type": "markdown",
   "metadata": {
    "colab_type": "text",
    "id": "nlvoDFmeU-JT"
   },
   "source": [
    "**15.6 Synchronized Methods**\n",
    "\n",
    "You are given a class with synchronized method A and a normal method B. If you have two threads in one instance of a program, can they both execute A at the same time? Can they execute A and B at the same time?\n",
    "\n",
    "*Hints: #429*"
   ]
  },
  {
   "cell_type": "code",
   "execution_count": 0,
   "metadata": {
    "colab": {},
    "colab_type": "code",
    "id": "8klJ77yJVEF5"
   },
   "outputs": [],
   "source": []
  },
  {
   "cell_type": "markdown",
   "metadata": {
    "colab_type": "text",
    "id": "kO1ab8oaVGDI"
   },
   "source": [
    "**15.7 FizzBuzz**\n",
    "\n",
    "In the classic problem FizzBuzz, you are told to print the numbers from 1 to n. However, when the number is divisible by B, print \"Fizz\". When it is divisible by 5, print \"Buzz\" When it is divisible by 3 and 5, print \"FizzBuzz\". In this problem, you are asked to do this in a multithreaded way. Implement a multithreaded version of FizzBuzz with four threads. One thread checks for divisibility of 3 and prints\"Fizz\". Another thread is responsible for divisibility of 5 and prints \"Buzz\" A third thread is responsible for divisibility of 3 and 5 and prints \"FizzBuzz\". A fourth thread does the numbers.\n",
    "\n",
    "*Hints: #414, #439, #447, #458*"
   ]
  },
  {
   "cell_type": "code",
   "execution_count": 0,
   "metadata": {
    "colab": {},
    "colab_type": "code",
    "id": "q8fWf2riVUCq"
   },
   "outputs": [],
   "source": []
  },
  {
   "cell_type": "markdown",
   "metadata": {
    "colab_type": "text",
    "id": "33GsKBfxVVmU"
   },
   "source": [
    "## 16. Moderate"
   ]
  },
  {
   "cell_type": "markdown",
   "metadata": {
    "colab_type": "text",
    "id": "iZbhiuTDVZzU"
   },
   "source": [
    "**16.1 Number Swapper**\n",
    "\n",
    "Write a function to swap a number in place (that is, without temporary variables).\n",
    "\n",
    "*Hints: #492, #716, #737*\n"
   ]
  },
  {
   "cell_type": "code",
   "execution_count": 0,
   "metadata": {
    "colab": {},
    "colab_type": "code",
    "id": "LZUjfrtvVZUe"
   },
   "outputs": [],
   "source": []
  },
  {
   "cell_type": "markdown",
   "metadata": {
    "colab_type": "text",
    "id": "knwvIhf2VjP5"
   },
   "source": [
    "**16.2 Word Frequencies**\n",
    "\n",
    "Design a method to find the frequency of occurrences of any given word in a book. What if we were running this algorithm multiple times?\n",
    "\n",
    "*Hints: #489, #536*"
   ]
  },
  {
   "cell_type": "code",
   "execution_count": 0,
   "metadata": {
    "colab": {},
    "colab_type": "code",
    "id": "sMnSsc0gVrzk"
   },
   "outputs": [],
   "source": []
  },
  {
   "cell_type": "markdown",
   "metadata": {
    "colab_type": "text",
    "id": "W3P9i4epVsgm"
   },
   "source": [
    "**16.3 Intersection**\n",
    "\n",
    "Given two straight line segments (represented as a start point and an end point), compute the point of intersection, if any.\n",
    "\n",
    "*Hints: #465, #472, #497, #517, #527*"
   ]
  },
  {
   "cell_type": "code",
   "execution_count": 0,
   "metadata": {
    "colab": {},
    "colab_type": "code",
    "id": "p6WwexTaVxAz"
   },
   "outputs": [],
   "source": []
  },
  {
   "cell_type": "markdown",
   "metadata": {
    "colab_type": "text",
    "id": "5gzTvHVQVxas"
   },
   "source": [
    "**16.4 TicTac Win**\n",
    "\n",
    "Design an algorithm to figure out if someone has won a game of tic-tac-toe.\n",
    "\n",
    "*Hints: #710, #732*"
   ]
  },
  {
   "cell_type": "code",
   "execution_count": 0,
   "metadata": {
    "colab": {},
    "colab_type": "code",
    "id": "9r3i78mxV5Hy"
   },
   "outputs": [],
   "source": []
  },
  {
   "cell_type": "markdown",
   "metadata": {
    "colab_type": "text",
    "id": "8STUD4ZWV4Ki"
   },
   "source": [
    "**16.5 Factorial Zeros**\n",
    "\n",
    "Write an algorithm which computes the number of trailing zeros in n factorial.\n",
    "\n",
    "*Hints: #585, #711, #729, #733, #745*"
   ]
  },
  {
   "cell_type": "code",
   "execution_count": 0,
   "metadata": {
    "colab": {},
    "colab_type": "code",
    "id": "DdMRjj9cV-1h"
   },
   "outputs": [],
   "source": []
  },
  {
   "cell_type": "markdown",
   "metadata": {
    "colab_type": "text",
    "id": "Cs6wL71-V_dK"
   },
   "source": [
    "**16.6 Smallest Difference**\n",
    "\n",
    "Given two arrays of integers, compute the pair of values (one value in each array) with the smallest (non-negative) difference. Return the difference.\n",
    "\n",
    "EXAMPLE\n",
    "\n",
    "`Input: ‏‏‎ ‎{1, 3, 15, 11, 2}, {23, 127, 235, 19, 8}`\n",
    "\n",
    "`Output: 3. That is, the pair (11, 8)`\n",
    "\n",
    "*Hints: #632, #670, #679*"
   ]
  },
  {
   "cell_type": "code",
   "execution_count": 0,
   "metadata": {
    "colab": {},
    "colab_type": "code",
    "id": "EqjH-6I9WPQ3"
   },
   "outputs": [],
   "source": []
  },
  {
   "cell_type": "markdown",
   "metadata": {
    "colab_type": "text",
    "id": "qSV9RS6OWP9P"
   },
   "source": [
    "**16.7 Number Max**\n",
    "\n",
    "Write a method that finds the maximum of two numbers. You should not use `if-else` or any other comparison operator.\n",
    "\n",
    "*Hints: #473, #513, #707, #728*"
   ]
  },
  {
   "cell_type": "code",
   "execution_count": 0,
   "metadata": {
    "colab": {},
    "colab_type": "code",
    "id": "l_J66OOEWXaL"
   },
   "outputs": [],
   "source": []
  },
  {
   "cell_type": "markdown",
   "metadata": {
    "colab_type": "text",
    "id": "cu65ixhtWZqu"
   },
   "source": [
    "**16.8 English Int**\n",
    "\n",
    "Given any integer, print an English phrase that describes the integer (e.g., \"One Thousand, Two Hundred Thirty Four\").\n",
    "\n",
    "*Hints: #502, #588, #688*"
   ]
  },
  {
   "cell_type": "code",
   "execution_count": 0,
   "metadata": {
    "colab": {},
    "colab_type": "code",
    "id": "qm4OQc_BWkba"
   },
   "outputs": [],
   "source": []
  },
  {
   "cell_type": "markdown",
   "metadata": {
    "colab_type": "text",
    "id": "REQEGZ2FWmbP"
   },
   "source": [
    "**16.9 Operations**\n",
    "\n",
    "Write methods to implement the multiply, subtract, and divide operations for integers. The results of all of these are integers. Use only the add operator.\n",
    "\n",
    "*Hints: #572, #600, #613, #648*"
   ]
  },
  {
   "cell_type": "code",
   "execution_count": 0,
   "metadata": {
    "colab": {},
    "colab_type": "code",
    "id": "HOthucwGWsRD"
   },
   "outputs": [],
   "source": []
  },
  {
   "cell_type": "markdown",
   "metadata": {
    "colab_type": "text",
    "id": "lIZlPOgxWs57"
   },
   "source": [
    "**16.10 Living People**\n",
    "\n",
    "Given a list of people with their birth and death years, implement a method to compute the year with the most number of people alive. You may assume that all people were born between 1900 and 2000 (inclusive). If a person was alive during any portion of that year, they should be included in that year's count. For example. Person (birth = 1908, death = 1909) is included in the counts for both 1908 and 1909.\n",
    "\n",
    "*Hints: #476, #490, #507, #514, #523, #532, #541, #549, #576*"
   ]
  },
  {
   "cell_type": "code",
   "execution_count": 0,
   "metadata": {
    "colab": {},
    "colab_type": "code",
    "id": "rNOkqOfeW0x4"
   },
   "outputs": [],
   "source": []
  },
  {
   "cell_type": "markdown",
   "metadata": {
    "colab_type": "text",
    "id": "poUMle6DW1TE"
   },
   "source": [
    "**16.11 Diving Board**\n",
    "\n",
    "You are building a diving board by placing a bunch of planks of wood end-to-end. There are two types of planks, one of length `shorter` and one of length `longer`. You must use exactly `K` planks of wood. Write a method to generate all possible lengths for the diving board.\n",
    "\n",
    "*Hints: #690, #700, #715, #722, #740, #747*"
   ]
  },
  {
   "cell_type": "code",
   "execution_count": 0,
   "metadata": {
    "colab": {},
    "colab_type": "code",
    "id": "m5VfLqbgW7_f"
   },
   "outputs": [],
   "source": []
  },
  {
   "cell_type": "markdown",
   "metadata": {
    "colab_type": "text",
    "id": "JbBHSzhHW8Ya"
   },
   "source": [
    "**16.12 XML Encoding**\n",
    "\n",
    "Since XML is very verbose, you are given a way of encoding it where each tag gets mapped to a pre-defined integer value. The language/grammar is as follows:\n",
    "\n",
    "`Element --> Tag Attributes END Children END`\n",
    "\n",
    "`Attribute --> Tag Value`\n",
    "\n",
    "`END --> 0`\n",
    "\n",
    "`Tag --> some predefined mapping to int `\n",
    "\n",
    "`Value --> string value`\n",
    "\n",
    "For example, the following XML might be converted into the compressed string below (assuming a mapping of `family -> 1`, `person -> 2`, `firstName -> 3`, `lastname -> 4`, `state -> 5`).\n",
    "\n",
    "```\n",
    "<family lastName=\"McDowell\" state=\"CA\">\n",
    "  <person firstName=\"Gayle\">Some Message</person>\n",
    "</family>\n",
    "```\n",
    "Becomes:\n",
    "```\n",
    "1 4 McDowell 5 CA 0 2 3 Gayle 0 Some Message 0 0\n",
    "```\n",
    "Write code to print the encoded version of an XML element (passed in `Element` and `Attribute` objects).\n",
    "\n",
    "*Hints: #466*"
   ]
  },
  {
   "cell_type": "code",
   "execution_count": 0,
   "metadata": {
    "colab": {},
    "colab_type": "code",
    "id": "3rp4oQhpYbH1"
   },
   "outputs": [],
   "source": []
  },
  {
   "cell_type": "markdown",
   "metadata": {
    "colab_type": "text",
    "id": "sU0YaGDQYcVj"
   },
   "source": [
    "**16.13 Bisect Squares**\n",
    "\n",
    "Given two squares on a two-dimensional plane, find a line that would cut these two squares in half. Assume that the top and the bottom sides of the square run parallel to the x-axis.\n",
    "\n",
    "*Hints: #468, #479, #528, #560*"
   ]
  },
  {
   "cell_type": "code",
   "execution_count": 0,
   "metadata": {
    "colab": {},
    "colab_type": "code",
    "id": "7r3IQrgoYilR"
   },
   "outputs": [],
   "source": []
  },
  {
   "cell_type": "markdown",
   "metadata": {
    "colab_type": "text",
    "id": "fEecswOtYjOP"
   },
   "source": [
    "**16.14 Best Line**\n",
    "\n",
    "Given a two-dimensional graph with points on it, find a line which passes the most number of points.\n",
    "\n",
    "*Hints: #491, #520, #529, #563*"
   ]
  },
  {
   "cell_type": "code",
   "execution_count": 0,
   "metadata": {
    "colab": {},
    "colab_type": "code",
    "id": "-gtNcDSUYqGw"
   },
   "outputs": [],
   "source": []
  },
  {
   "cell_type": "markdown",
   "metadata": {
    "colab_type": "text",
    "id": "M8ktJ-5AYr48"
   },
   "source": [
    "**16.15 Master Mind**\n",
    "\n",
    "The Game of Master Mind is played as follows:\n",
    "The computer has four slots, and each slot will contain a ball that is red (R), yellow (Y), green (G) or blue (B). For example, the computer might have RGGB (Slot #1 is red, Slots #2 and #3 are green. Slot #4 is blue).\n",
    "\n",
    "You, the user, are trying to guess the solution. You might, for example, guess YRGB.\n",
    "When you guess the correct color for the correct slot, you get a \"hit.\" If you guess a color that exists but is in the wrong slot, you get a \"pseudo-hit.\" Mote that a slot that is a hit can never count as a\n",
    "pseudo-hit.\n",
    "\n",
    "For example, if the actual solution is RGBY and you guess GGRR, you have one hit and one pseudo-hit. Write a method that, given a guess and a solution, returns the number of hits and pseudo-hits. \n",
    "\n",
    "*Hints: #639, #730*"
   ]
  },
  {
   "cell_type": "code",
   "execution_count": 0,
   "metadata": {
    "colab": {},
    "colab_type": "code",
    "id": "GLrZyfXqY0uB"
   },
   "outputs": [],
   "source": []
  },
  {
   "cell_type": "markdown",
   "metadata": {
    "colab_type": "text",
    "id": "Dp7RuS3tY1SG"
   },
   "source": [
    "**16.16 Sub Sort**\n",
    "\n",
    "Given an array of integers, write a method to find indices `m` and `n` such that if you sorted elements `m` through `n`, the entire array would be sorted. Minimize `n - m` (that is, find the smallest such sequence).\n",
    "\n",
    "EXAMPLE\n",
    "\n",
    "`Input: ‏‏‎ ‎1, 2, 4, 7, 10, 11, 7, 12, 6, 7, 16, 18, 19`\n",
    "\n",
    "`Output: (3, 9)`\n",
    "\n",
    "*Hints: #482, #553, #667, #708, #735, #746*"
   ]
  },
  {
   "cell_type": "code",
   "execution_count": 0,
   "metadata": {
    "colab": {},
    "colab_type": "code",
    "id": "JiTRxy9KZOdD"
   },
   "outputs": [],
   "source": []
  },
  {
   "cell_type": "markdown",
   "metadata": {
    "colab_type": "text",
    "id": "0PX7cMlqZO-l"
   },
   "source": [
    "**16.17 Contiguous Sequence**\n",
    "\n",
    "You are given an array of integers (both positive and negative). Find the contiguous sequence with the largest sum. Return the sum.\n",
    "\n",
    "EXAMPLE\n",
    "\n",
    "`Input: ‏‏‎ ‎2, -8 , 3, -2, 4, -10`\n",
    "\n",
    "`Output: 5 (i.e., {3, -2, 4})`\n",
    "\n",
    "*Hints: #531 #551, #567, #594, #614*"
   ]
  },
  {
   "cell_type": "code",
   "execution_count": 0,
   "metadata": {
    "colab": {},
    "colab_type": "code",
    "id": "dzLRFzKcZbRi"
   },
   "outputs": [],
   "source": []
  },
  {
   "cell_type": "markdown",
   "metadata": {
    "colab_type": "text",
    "id": "UF6DEKGUZb7C"
   },
   "source": [
    "**16.18 Pattern Matching**\n",
    "\n",
    "You are given two strings, `pattern` and `value`. The `pattern` string consists of just the letters `a` and `b`, describing a pattern within a string. For example, the string `catcatgocatgo` matches the pattern `aabab` (where `cat` is `a` and `go` is `b`). It also matches patterns like `a`, `ab`, and `b`. Write a method to determine if `value` matches `pattern`.\n",
    "\n",
    "*Hints: #631, #643, #653, #663, #685, #718, #727*"
   ]
  },
  {
   "cell_type": "code",
   "execution_count": 0,
   "metadata": {
    "colab": {},
    "colab_type": "code",
    "id": "j1qolS1YZ8zn"
   },
   "outputs": [],
   "source": []
  },
  {
   "cell_type": "markdown",
   "metadata": {
    "colab_type": "text",
    "id": "rVmJqHp4Z9ZV"
   },
   "source": [
    "**16.19 Pond Sizes**\n",
    "\n",
    "You have an integer matrix representing a plot of land, where the value at that loca- tion represents the height above sea level. A value of zero indicates water. A pond is a region of water connected vertically, horizontally, or diagonally. The size of the pond is the total number of connected water cells. Write a method to compute the sizes of all ponds in the matrix.\n",
    "\n",
    "EXAMPLE\n",
    "\n",
    "`Input:`\n",
    "\n",
    "`6 2 1 0`\n",
    "\n",
    "`e 1 e 1`\n",
    "\n",
    "`1 1 0 1`\n",
    "\n",
    "`0 1 0 1`\n",
    "\n",
    "`Output: 2, 4, 1 (in any order)`\n",
    "\n",
    "*Hints: #674, #687, #706, #723*"
   ]
  },
  {
   "cell_type": "code",
   "execution_count": 0,
   "metadata": {
    "colab": {},
    "colab_type": "code",
    "id": "yyKHZXGxak4B"
   },
   "outputs": [],
   "source": []
  },
  {
   "cell_type": "markdown",
   "metadata": {
    "colab_type": "text",
    "id": "4SLW6dM4atVE"
   },
   "source": [
    "**16.20 T9**\n",
    "\n",
    "On old cell phones, users typed on a numeric keypad and the phone would provide a list of words that matched these numbers. Each digit mapped to a set of 0 - 4 letters. Implement an algo- rithm to return a list of matching words, given a sequence of digits. You are provided a list of valid words (provided in whatever data structure you'd like). The mapping is shown in the diagram below:\n",
    "\n",
    "![16_20.png](./16_20.png)\n",
    "\n",
    "EXAMPLE\n",
    "\n",
    "`Input: ‏‏‎ ‎8733`\n",
    "\n",
    "`Output: tree, used`\n",
    "\n",
    "Hints: #471, #487, #654, #703, #726, #744"
   ]
  },
  {
   "cell_type": "code",
   "execution_count": 0,
   "metadata": {
    "colab": {},
    "colab_type": "code",
    "id": "5ulWIrUda69z"
   },
   "outputs": [],
   "source": []
  },
  {
   "cell_type": "markdown",
   "metadata": {
    "colab_type": "text",
    "id": "EeOgTG6Ea-IG"
   },
   "source": [
    "**16.21 Sum Swap**\n",
    "\n",
    "Given two arrays of integers, find a pair of values (one value from each array) that you can swap to give the two arrays the same sum.\n",
    "\n",
    "EXAMPLE\n",
    "\n",
    "`Input: ‏‏‎ ‎{4, 1, 2, 1, 1, 2} and {3, 6, 3, 3}`\n",
    "\n",
    "`Output: {1, 3}`\n",
    "\n",
    "*Hints: #545, #557, #564, #571, #583, #592, #602, #606, #635*"
   ]
  },
  {
   "cell_type": "code",
   "execution_count": 0,
   "metadata": {
    "colab": {},
    "colab_type": "code",
    "id": "UUl6Y_ggbHHK"
   },
   "outputs": [],
   "source": []
  },
  {
   "cell_type": "markdown",
   "metadata": {
    "colab_type": "text",
    "id": "dGw6_ptubPlJ"
   },
   "source": [
    "**16.22 Langton's Ant**\n",
    "\n",
    "An ant is sitting on an infinite grid of white and biack squares. It initially faces right. At each step, it does the following:\n",
    "\n",
    "(1) At a white square, flip the color of the square, turn 90 degrees right (clockwise), and move forward one unit.\n",
    "\n",
    "(2) At a black square, flip the color of the square, turn 90 degrees left (counter-clockwise), and move forward one unit.\n",
    "\n",
    "Write a program to simulate the first `K` moves that the ant makes and print the final board as a grid. Note that you are not provided with the data structure to represent the grid. This is something you must design yourself. The only input to your method is `K`. You should print the final grid and return nothing. The method signature might be something like `void printKMoves(int K)`.\n",
    "\n",
    "*Hints: #474, #481, #533, #540, #559, #570, #599, #616, #627*"
   ]
  },
  {
   "cell_type": "code",
   "execution_count": 0,
   "metadata": {
    "colab": {},
    "colab_type": "code",
    "id": "bB26kfXCbeY3"
   },
   "outputs": [],
   "source": []
  },
  {
   "cell_type": "markdown",
   "metadata": {
    "colab_type": "text",
    "id": "lKHaBjjsbg5H"
   },
   "source": [
    "**16.23 Rand7 from Rand5**\n",
    "\n",
    "Implement a method `rand7()` given `rand5()`.That is, given a method that generates a random number between 0 and 4 (inclusive), write a method that generates a random number between 0 and 6 (inclusive).\n",
    "\n",
    "*Hints: #505, #574, #637, #668, #697, #720*\n"
   ]
  },
  {
   "cell_type": "code",
   "execution_count": 0,
   "metadata": {
    "colab": {},
    "colab_type": "code",
    "id": "zRj8SWl_bqf2"
   },
   "outputs": [],
   "source": []
  },
  {
   "cell_type": "markdown",
   "metadata": {
    "colab_type": "text",
    "id": "j5rWKG1ybrG9"
   },
   "source": [
    "**16.24 Pairs with Sum**\n",
    "\n",
    "Design an algorithm to find all pairs of integers within an array which sum to a specified value.\n",
    "\n",
    "*Hints: #548, #597, #644, #673*"
   ]
  },
  {
   "cell_type": "code",
   "execution_count": 0,
   "metadata": {
    "colab": {},
    "colab_type": "code",
    "id": "esmu94CObvvd"
   },
   "outputs": [],
   "source": []
  },
  {
   "cell_type": "markdown",
   "metadata": {
    "colab_type": "text",
    "id": "Urrf2AVObx-A"
   },
   "source": [
    "**16.25 LRU Cache**\n",
    "\n",
    "Design and build a \"least recently used\" cache, which evicts the least recently used item. The cache should map from keys to values (allowing you to insert and retrieve a value associated with a particular key) and be initialized with a max size. When it is full, it should evict the least recently used item.\n",
    "\n",
    "*Hints: #524, #630, #694*"
   ]
  },
  {
   "cell_type": "code",
   "execution_count": 0,
   "metadata": {
    "colab": {},
    "colab_type": "code",
    "id": "bvcUQiZTb3ck"
   },
   "outputs": [],
   "source": []
  },
  {
   "cell_type": "markdown",
   "metadata": {
    "colab_type": "text",
    "id": "FmL3bq9Jb8db"
   },
   "source": [
    "**16.26 Calculator**\n",
    "\n",
    "Given an arithmetic equation consisting of positive integers, `+`, `-`, `*` and `/` (no parentheses), compute the result.\n",
    "\n",
    "EXAMPLE\n",
    "\n",
    "`Input: ‏‏‎ ‎2 * 3 + 5 / 6 * 3 + 15`\n",
    "\n",
    "`Output: 23.5``\n",
    "\n",
    "*Hints: #521, #624, #665, #698*"
   ]
  },
  {
   "cell_type": "code",
   "execution_count": 0,
   "metadata": {
    "colab": {},
    "colab_type": "code",
    "id": "C9XJbx4ncVJA"
   },
   "outputs": [],
   "source": []
  },
  {
   "cell_type": "markdown",
   "metadata": {
    "colab_type": "text",
    "id": "2YSdJzfScVmT"
   },
   "source": [
    "## 17. Hard"
   ]
  },
  {
   "cell_type": "markdown",
   "metadata": {
    "colab_type": "text",
    "id": "jpBA3yXEcZCH"
   },
   "source": [
    "**17.1 Add Without Plus**\n",
    "\n",
    "Write a function that adds two numbers. You should not use `+` or any arithmetic operators.\n",
    "\n",
    "*Hints: #467, #544, #601, #628, #642, #664, #692, #712, #724*"
   ]
  },
  {
   "cell_type": "code",
   "execution_count": 0,
   "metadata": {
    "colab": {},
    "colab_type": "code",
    "id": "68nIhsf-cYFo"
   },
   "outputs": [],
   "source": []
  },
  {
   "cell_type": "markdown",
   "metadata": {
    "colab_type": "text",
    "id": "YIMhXSacchZW"
   },
   "source": [
    "**17.2 Shuffle**\n",
    "\n",
    "Write a method to shuffle a deck of cards. It must be a perfect shuffle —in other words, each of the 52! permutations of the deck has to be equally likely. Assume that you are given a random number generator which is perfect.\n",
    "\n",
    "*Hints: #483, #579, #634*\n"
   ]
  },
  {
   "cell_type": "code",
   "execution_count": 0,
   "metadata": {
    "colab": {},
    "colab_type": "code",
    "id": "tAG0mmZqcs4-"
   },
   "outputs": [],
   "source": []
  },
  {
   "cell_type": "markdown",
   "metadata": {
    "colab_type": "text",
    "id": "cGd-7CgZc1Fk"
   },
   "source": [
    "**17.3 Random Set**\n",
    "\n",
    "Write a method to randomly generate a set of `m` integers from an array of size `n`. Each element must have equal probability of being chosen.\n",
    "\n",
    "*Hints: #494, #596*\n"
   ]
  },
  {
   "cell_type": "code",
   "execution_count": 0,
   "metadata": {
    "colab": {},
    "colab_type": "code",
    "id": "Zb5R1dKHc6I7"
   },
   "outputs": [],
   "source": []
  },
  {
   "cell_type": "markdown",
   "metadata": {
    "colab_type": "text",
    "id": "7qDAQ45Uc652"
   },
   "source": [
    "**17.4 Missing Number**\n",
    "\n",
    "An array A contains all the integers from 0 to n, except for one number which is missing. In this problem, we cannot access an entire integer in A with a single operation. The elements of A are represented in binary, and the only operation we can use to access them is \"fetch the `j`th bit of `A[i]`\", which takes constant time. Write code to find the missing integer. Can you do it in O(n) time?\n",
    "\n",
    "*Hints: #610, #659, #683*"
   ]
  },
  {
   "cell_type": "code",
   "execution_count": 0,
   "metadata": {
    "colab": {},
    "colab_type": "code",
    "id": "kqostgOkdNGB"
   },
   "outputs": [],
   "source": []
  },
  {
   "cell_type": "markdown",
   "metadata": {
    "colab_type": "text",
    "id": "kJ6BGJ6OdOBt"
   },
   "source": [
    "**17.5 Letters and Numbers**\n",
    "\n",
    "Given an array filled with letters and numbers, find the longest subarray with an equal number of letters and numbers.\n",
    "\n",
    "*Hints: #485, #515, #619, #671, #713*"
   ]
  },
  {
   "cell_type": "code",
   "execution_count": 0,
   "metadata": {
    "colab": {},
    "colab_type": "code",
    "id": "nnGjfqjsdXFX"
   },
   "outputs": [],
   "source": []
  },
  {
   "cell_type": "markdown",
   "metadata": {
    "colab_type": "text",
    "id": "wqxkLJo5dXst"
   },
   "source": [
    "**17.6 Count of 2s**\n",
    "\n",
    "Write a method to count the number of 2s that appear in all the numbers between 0 and n (inclusive).\n",
    "\n",
    "EXAMPLE\n",
    "\n",
    "`Input: ‏‏‎ ‎25`\n",
    "\n",
    "`Output: 9 (2, 12 ,20 , 21, 22, 23, 24 and 25. Note that 22 counts for two 2s.)`\n",
    "\n",
    "*Hints: #573, #612, #641*\n"
   ]
  },
  {
   "cell_type": "code",
   "execution_count": 0,
   "metadata": {
    "colab": {},
    "colab_type": "code",
    "id": "rTf7Gur5djM-"
   },
   "outputs": [],
   "source": []
  },
  {
   "cell_type": "markdown",
   "metadata": {
    "colab_type": "text",
    "id": "lg8diq59dj0K"
   },
   "source": [
    "**17.7 Baby Names**\n",
    "\n",
    "Each year, the government releases a list of the 10000 most common baby names and their frequencies (the number of babies with that name). The only problem with this is that some names have multiple spellings. For example, \"John\" and \"Jon\" are essentially the same name but would be listed separately in the list. Given two lists, one of names/frequencies and the other of pairs of equivalent names, write an atgorithm to print a new list of the true frequency of each name. Note that if John and Jon are synonyms, and Jon and Johnny are synonyms, then John and Johnny are synonyms, (it is both transitive and symmetric.) In the final list, any name can be used as the \"real\" name,\n",
    "\n",
    "EXAMPLE\n",
    "\n",
    "`Input:`\n",
    "\n",
    "`Names: John (15), Jon (12), Chris (13), Kris (4), Christopher (19)`\n",
    "\n",
    "`Synonyms: (Jon, John), (John, Johnny), (Chris, Kris), (Chris, Christopher)`\n",
    "\n",
    "`Output: John (27), Kris (36)`\n",
    "\n",
    "*Hints: #478, #493, #512, #537, #586, #605, #655, #675, #704*"
   ]
  },
  {
   "cell_type": "code",
   "execution_count": 0,
   "metadata": {
    "colab": {},
    "colab_type": "code",
    "id": "hy4GlzJIeEh7"
   },
   "outputs": [],
   "source": []
  },
  {
   "cell_type": "markdown",
   "metadata": {
    "colab_type": "text",
    "id": "q91_HjcreFmA"
   },
   "source": [
    "**17.8 Circus Tower**\n",
    "\n",
    "A circus is designing a tower routine consisting of people standing atop one another's shoulders. For practical and aesthetic reasons, each person must be both shorter and lighter than the person below him or her. Given the heights and weights of each person in the circus, write a method to compute the largest possible number of people in such a tower.\n",
    "\n",
    "EXAMPLE\n",
    "\n",
    "`Input (ht, wt): (65, 100) (70, 150) (56, 90) (75, 190) (60, 95) (68, 110)`\n",
    "\n",
    "`Output: The longest tower is length 6 and includes from top to bottom: (56, 90) (60,95) (65,100) (68,110) (70,150) (75,190)`\n",
    "\n",
    "*Hints: #638, #657, #666, #682, #699*"
   ]
  },
  {
   "cell_type": "code",
   "execution_count": 0,
   "metadata": {
    "colab": {},
    "colab_type": "code",
    "id": "M_skQoP2eXo5"
   },
   "outputs": [],
   "source": []
  },
  {
   "cell_type": "markdown",
   "metadata": {
    "colab_type": "text",
    "id": "n_j2wODweYZY"
   },
   "source": [
    "**17.9 Kth Multiple**\n",
    "\n",
    "Design an algorithm to find the `k`th number such that the only prime factors are 3, 5, and 7. Note that 3, 5, and 7 do not have to be factors, but it should not have any other prime factors. For example, the first several multiples would be (in order) 1, 3, 5, 7, 9, 15, 21.\n",
    "\n",
    "*Hints: #488, #508, #550, #591, #622, #660, #686*"
   ]
  },
  {
   "cell_type": "code",
   "execution_count": 0,
   "metadata": {
    "colab": {},
    "colab_type": "code",
    "id": "Uqx3b5aFeiAA"
   },
   "outputs": [],
   "source": []
  },
  {
   "cell_type": "markdown",
   "metadata": {
    "colab_type": "text",
    "id": "Dd4pPFBSeizS"
   },
   "source": [
    "**17.10 Majority Element**\n",
    "\n",
    "A majority element is an element that makes up more than half of the items in an array. Given a positive integers array, find the majority element. If there is no majority element, return -1. Do this in O(N) time and O(1) space.\n",
    "\n",
    "EXAMPLE\n",
    "\n",
    "`Input: ‏‏‎ ‎1 2 5  9 5 9 5 5 5`\n",
    "\n",
    "`Output: 5`\n",
    "\n",
    "*Hints: #522, #566, #604, #620, #650*\n"
   ]
  },
  {
   "cell_type": "code",
   "execution_count": 0,
   "metadata": {
    "colab": {},
    "colab_type": "code",
    "id": "iEn7DYhke5B8"
   },
   "outputs": [],
   "source": []
  },
  {
   "cell_type": "markdown",
   "metadata": {
    "colab_type": "text",
    "id": "-aJXEF-Ee8Ip"
   },
   "source": [
    "**17.11 Word Distance**\n",
    "\n",
    "You have a large text file containing words. Given any two words, find the shortest distance (in terms of number of words) between them in the file. If the operation will be repeated many times for the same file (but different pairs of words), can you optimize your solution?\n",
    "\n",
    "*Hints: #486, #501, #538, #558, #633*"
   ]
  },
  {
   "cell_type": "code",
   "execution_count": 0,
   "metadata": {
    "colab": {},
    "colab_type": "code",
    "id": "HpF-dgpdfEoM"
   },
   "outputs": [],
   "source": []
  },
  {
   "cell_type": "markdown",
   "metadata": {
    "colab_type": "text",
    "id": "fKbQraevfFFt"
   },
   "source": [
    "**17.12 BiNode**\n",
    "\n",
    "Consider a simple data structure called `BiNode`, which has pointers to two other nodes.\n",
    "```\n",
    "public class BiNode {\n",
    "  public BiNode nodel, node2;\n",
    "  public int data;\n",
    "}\n",
    "```\n",
    "The data structure `BiNode` could be used to represent both a binary tree (where `node1` is the left node and `node2` is the right node) or a doubly linked list (where `nodel` is the previous node and `node2` is the next node). Implement a method to convert a binary search tree (implemented with `BiNode`) into a doubly linked list. The values should be kept in order and the operation should be performed in place (that is, on the original data structure).\n",
    "\n",
    "*Hints: #509, #608, #646, #680, #701 #719*"
   ]
  },
  {
   "cell_type": "code",
   "execution_count": 0,
   "metadata": {
    "colab": {},
    "colab_type": "code",
    "id": "_R6f7m8Ofj5_"
   },
   "outputs": [],
   "source": []
  },
  {
   "cell_type": "markdown",
   "metadata": {
    "colab_type": "text",
    "id": "dbRrSz3afoPc"
   },
   "source": [
    "**17.13 Re-Space**\n",
    "\n",
    "Oh, no! You have accidentally removed all spaces, punctuation, and capitalization in a lengthy document, A sentence like \"`I reset the computer. It still didn't boot!`\" became \"`iresetthecomputeritstilldidntboot`\". You'll deal with the punctuation and capitalization later; right now you need to re-insert the spaces. Most of the words are in a dictionary but a few are not. Given a dictionary (a list of strings) and the document (a string), design an algorithm to unconcatenate the document in a way that minimizes the number of unrecognized characters. \n",
    "\n",
    "EXAMPLE\n",
    "\n",
    "`Input: ‏‏‎ ‎jesslookedjustliketimherbrother`\n",
    "\n",
    "`Output:` *jess* `looked just like` *tim* `her brother (7 unrecognized characters)`\n",
    "\n",
    "*Hints: #496, #623, #656, #677, #739, #749*\n"
   ]
  },
  {
   "cell_type": "code",
   "execution_count": 0,
   "metadata": {
    "colab": {},
    "colab_type": "code",
    "id": "nzqyLIzUhvPn"
   },
   "outputs": [],
   "source": []
  },
  {
   "cell_type": "markdown",
   "metadata": {
    "colab_type": "text",
    "id": "CZn0VKSdh6Pl"
   },
   "source": [
    "**17.14 Smallest K**\n",
    "\n",
    "Design an algorithm to find the smallest K numbers in an array. \n",
    "\n",
    "*Hints: #470, #530, #552, #593, #625, #647, #661, #678*"
   ]
  },
  {
   "cell_type": "code",
   "execution_count": 0,
   "metadata": {
    "colab": {},
    "colab_type": "code",
    "id": "kRSPWejZiBNJ"
   },
   "outputs": [],
   "source": []
  },
  {
   "cell_type": "markdown",
   "metadata": {
    "colab_type": "text",
    "id": "5evTmqYXiB7o"
   },
   "source": [
    "**17.15 Longest Word**\n",
    "\n",
    "Given a list of words, write a program to find the longest word made of other words in the list.\n",
    "\n",
    "EXAMPLE\n",
    "\n",
    "`Input: ‏‏‎ ‎cat, banana, dog, nana, walk, walker, dogwalker`\n",
    "\n",
    "`Output: dogwalker`\n",
    "\n",
    "*Hints: #475, #499, #543, #589*\n"
   ]
  },
  {
   "cell_type": "code",
   "execution_count": 0,
   "metadata": {
    "colab": {},
    "colab_type": "code",
    "id": "-BSvOvvviJzA"
   },
   "outputs": [],
   "source": []
  },
  {
   "cell_type": "markdown",
   "metadata": {
    "colab_type": "text",
    "id": "htjzKaVAiLfw"
   },
   "source": [
    "**17.16 The Masseuse**\n",
    "\n",
    "A popular masseuse receives a sequence of back-to-back appointment requests and is debating which ones to accept. She needs a 15-minute break between appointments and therefore she cannot accept any adjacent requests. Given a sequence of back-to-back appointment requests (all multiples of 15 minutes, none overlap, and none can be moved), find the optimal (highest total booked minutes) set the masseuse can honor. Return the number of minutes.\n",
    "\n",
    "EXAMPLE\n",
    "\n",
    "`Input: ‏‏‎ ‎{30, 15, 60, 75, 45, 15, 15, 45}`\n",
    "\n",
    "`Output: 180 minutes ({30, 60, 45, 45})`\n",
    "\n",
    "*Hints: #495, #504, #516, #526, #542, #554, #562, #568, #578, #587, #607*\n"
   ]
  },
  {
   "cell_type": "code",
   "execution_count": 0,
   "metadata": {
    "colab": {},
    "colab_type": "code",
    "id": "7e3oQdNXiWrH"
   },
   "outputs": [],
   "source": []
  },
  {
   "cell_type": "markdown",
   "metadata": {
    "colab_type": "text",
    "id": "sxquw0J5iaqE"
   },
   "source": [
    "**17.17 Multi Search**\n",
    "\n",
    "Given a string `b` and an array of smaller strings `T`, design a method to search `b` for each small string in `T`.\n",
    "\n",
    "*Hints: #480, #582, #617, #743*"
   ]
  },
  {
   "cell_type": "code",
   "execution_count": 0,
   "metadata": {
    "colab": {},
    "colab_type": "code",
    "id": "_j1x6sp_iq_b"
   },
   "outputs": [],
   "source": []
  },
  {
   "cell_type": "markdown",
   "metadata": {
    "colab_type": "text",
    "id": "v0Z9apQTirgr"
   },
   "source": [
    "**17.18 Shortest Supersequence**\n",
    "\n",
    "You are given two arrays, one shorter (with all distinct elements) and one longer. Find the shortest subarray in the longer array that contains all the elements in the shorter array. The items can appear in any order.\n",
    "\n",
    "EXAMPLE\n",
    "\n",
    "`Input: ‏‏‎ ‎{1, 5, 9} | {7, 5, 9, 0, 2, 1, 3,` *5, 7, 9, 1,* `1, 5, 8, 8, 9, 7}` \n",
    "\n",
    "`Output: [7 , 10] (the italic portion above)`\n",
    "\n",
    "*Hints: #645, #652, #669, #681, #691, #725, #731, #741*"
   ]
  },
  {
   "cell_type": "code",
   "execution_count": 0,
   "metadata": {
    "colab": {},
    "colab_type": "code",
    "id": "azGkPr6TjZgc"
   },
   "outputs": [],
   "source": []
  },
  {
   "cell_type": "markdown",
   "metadata": {
    "colab_type": "text",
    "id": "U9e4MdFYjaZq"
   },
   "source": [
    "**17.19 Missing Two**\n",
    "\n",
    "You are given an array with all the numbers from 1 to N appearing exactly once, except for one number that is missing. How can you find the missing number in O(N) time and O(1) space? What if there were two numbers missing?\n",
    "\n",
    "*Hints: #503, #590, #609, #626, #649, #672, #689, #696, #702, #717*\n"
   ]
  },
  {
   "cell_type": "code",
   "execution_count": 0,
   "metadata": {
    "colab": {},
    "colab_type": "code",
    "id": "Vt51oo-7jlIP"
   },
   "outputs": [],
   "source": []
  },
  {
   "cell_type": "markdown",
   "metadata": {
    "colab_type": "text",
    "id": "6Ff3ssvojlo8"
   },
   "source": [
    "**17.20 Continuous Median**\n",
    "\n",
    "Numbers are randomly generated and passed to a method. Write a program to find and maintain the median value as new values are generated.\n",
    "\n",
    "*Hints: #519, #546, #575, #709*"
   ]
  },
  {
   "cell_type": "code",
   "execution_count": 0,
   "metadata": {
    "colab": {},
    "colab_type": "code",
    "id": "5BqDgZM5jq1O"
   },
   "outputs": [],
   "source": []
  },
  {
   "cell_type": "markdown",
   "metadata": {
    "colab_type": "text",
    "id": "oUXBS4b3jrfv"
   },
   "source": [
    "**17.21 Volume of Histogram**\n",
    "\n",
    "Imagine a histogram (bar graph). Design an algorithm to compute the volume of water it could hold if someone poured water across the top. You can assume that each histogram bar has width 1.\n",
    "\n",
    "EXAMPLE (Black bars are the histogram. Gray is water.)\n",
    "\n",
    "`Input: {0, 0, 4, 0, 0, 6, 0, 0, 3, 0, 5, 0, 1, 0, 0, 0}`\n",
    "\n",
    "![17_21.png](./17_21.png)\n",
    "\n",
    "`Output: 26`\n",
    "\n",
    "*Hints: #629, #640, #651, #658, #662, #676, #693, #734, #742*"
   ]
  },
  {
   "cell_type": "code",
   "execution_count": 0,
   "metadata": {
    "colab": {},
    "colab_type": "code",
    "id": "FGICm4TPkFs5"
   },
   "outputs": [],
   "source": []
  },
  {
   "cell_type": "markdown",
   "metadata": {
    "colab_type": "text",
    "id": "z_lE0weGkKHj"
   },
   "source": [
    "**17.22 Word Transformer**\n",
    "\n",
    "Given two words of equal length that are in a dictionary, write a method to transform one word into another word by changing only one letter at a time.The new word you get in each step must be in the dictionary.\n",
    "\n",
    "EXAMPLE\n",
    "\n",
    "`Input: ‏‏‎ ‎DAMP, LIKE`\n",
    "\n",
    "`Output: DAMP -> LAMP -> LIMP -> LIME -> LIKE`\n",
    "\n",
    "*Hints: #506, #535, #556, #580, #598, #618, #738*"
   ]
  },
  {
   "cell_type": "code",
   "execution_count": 0,
   "metadata": {
    "colab": {},
    "colab_type": "code",
    "id": "yH8vgXHHkUnw"
   },
   "outputs": [],
   "source": []
  },
  {
   "cell_type": "markdown",
   "metadata": {
    "colab_type": "text",
    "id": "EOQqM4_fkWjx"
   },
   "source": [
    "**17.23 Max Black Square**\n",
    "\n",
    "Imagine you have a square matrix, where each cell (pixel) is either black or white Design an algorithm to find the maximum subsquare such that all four borders are filled with black pixels.\n",
    "\n",
    "*Hints: #684, #695, #705, #714, #721, #736*"
   ]
  },
  {
   "cell_type": "code",
   "execution_count": 0,
   "metadata": {
    "colab": {},
    "colab_type": "code",
    "id": "WR5Yfg2bkaan"
   },
   "outputs": [],
   "source": []
  },
  {
   "cell_type": "markdown",
   "metadata": {
    "colab_type": "text",
    "id": "VZ7kebBhkdGM"
   },
   "source": [
    "**17.24 Max Submatrix**\n",
    "\n",
    "Given an NxN matrix of positive and negative integers, write code to find the subrnatrix with the largest possible sum.\n",
    "\n",
    "*Hints: #469, #511, #525, #539, #565, #581, #595, #615, #621*"
   ]
  },
  {
   "cell_type": "code",
   "execution_count": 0,
   "metadata": {
    "colab": {},
    "colab_type": "code",
    "id": "tx6dv8LMkiwe"
   },
   "outputs": [],
   "source": []
  },
  {
   "cell_type": "markdown",
   "metadata": {
    "colab_type": "text",
    "id": "UlEIEfUUkjY2"
   },
   "source": [
    "**17.25 Word Rectangle**\n",
    "\n",
    "Given a list of millions of words, design an algorithm to create the largest possible rectangle of letters such that every row forms a word (reading left to right) and every column forms a word (reading top to bottom). The words need not be chosen consecutively from the list, but all rows must be the same length and all columns must be the same height.\n",
    "\n",
    "*Hints: #477, #500, #748*"
   ]
  },
  {
   "cell_type": "code",
   "execution_count": 0,
   "metadata": {
    "colab": {},
    "colab_type": "code",
    "id": "vWI7Xw-CkpNN"
   },
   "outputs": [],
   "source": []
  },
  {
   "cell_type": "markdown",
   "metadata": {
    "colab_type": "text",
    "id": "acVJpiJvkrDR"
   },
   "source": [
    "**17.26 Sparse Similarity**\n",
    "\n",
    "The similarity of two documents (each with distinct words) is defined to be the size of the intersection divided by the size of the union. For example, if the documents consist of integers, the similarity of `{ 1 , 5, 3}` and `{1, 7, 2, 3}` is `0.4`, because the intersection has size 2 and the union has size 5.\n",
    "\n",
    "We have a long list of documents (with distinct values and each with an associated ID) where the similarity is believed to be \"sparse.\"That is, any two arbitrarily selected documents are very likely to have similarity 0. Design an algorithm that returns a list of pairs of document IDs and the associated similarity.\n",
    "\n",
    "Print only the pairs with similarity greater than 0, Empty documents should not be printed at all. For simplicity, you may assume each document is represented as an array of distinct integers.\n",
    "\n",
    "EXAMPLE\n",
    "\n",
    "Input:\n",
    "```\n",
    "13: {14, 15, 100, 9, 3}\n",
    "16: {32, 1, 9, 3, 5}\n",
    "19: {15, 29, 2, 6, 8, 7}\n",
    "24: {7, 10}\n",
    "```\n",
    "Output:\n",
    "```\n",
    "ID1, ID2 : SIMILARITY\n",
    "13, 19 : 0.1\n",
    "13, 16 : 0.25\n",
    "19, 24 : 0.14285714285714285\n",
    "```\n",
    "*Hints: #484, #498, #510, #518, #534, #547, #555, #561, #569, #577, #584, #603, #611, #636*"
   ]
  },
  {
   "cell_type": "code",
   "execution_count": 0,
   "metadata": {
    "colab": {},
    "colab_type": "code",
    "id": "MROhoS81la9p"
   },
   "outputs": [],
   "source": []
  },
  {
   "cell_type": "markdown",
   "metadata": {
    "colab_type": "text",
    "id": "_vJ30ww2lfhy"
   },
   "source": [
    "---"
   ]
  }
 ],
 "metadata": {
  "colab": {
   "collapsed_sections": [
    "GoMNegzCdICC",
    "Pv-H9G2fiYwo",
    "iDw0YmrdkKTu",
    "tot9QZkwpqmu",
    "HVe4wKFd2Zv8",
    "8-DpDNYG3tA2",
    "NtBAXCxAGNL9",
    "2MTThzOFIBe0",
    "Xe2w5BPOKnJ1",
    "qtglIhtPRMt3",
    "aTybWWwKSWKS",
    "33GsKBfxVVmU",
    "2YSdJzfScVmT"
   ],
   "name": "Cracking-the-Coding-Interview-unresolved.ipynb",
   "provenance": []
  },
  "kernelspec": {
   "display_name": "Python 3",
   "language": "python",
   "name": "python3"
  },
  "language_info": {
   "codemirror_mode": {
    "name": "ipython",
    "version": 3
   },
   "file_extension": ".py",
   "mimetype": "text/x-python",
   "name": "python",
   "nbconvert_exporter": "python",
   "pygments_lexer": "ipython3",
   "version": "3.7.4"
  }
 },
 "nbformat": 4,
 "nbformat_minor": 1
}
